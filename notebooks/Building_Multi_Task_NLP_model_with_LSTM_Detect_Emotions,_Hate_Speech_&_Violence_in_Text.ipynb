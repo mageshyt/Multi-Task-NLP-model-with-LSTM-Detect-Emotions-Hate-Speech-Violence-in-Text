{
  "cells": [
    {
      "cell_type": "markdown",
      "metadata": {
        "id": "MsSZQOP0fLgn"
      },
      "source": [
        "# Building Multi-Task NLP model with LSTM : Detect Emotions, Hate Speech & Violence in Text\n",
        "\n",
        "> Detect Emotion , violence , Hate Speech\n",
        "\n",
        "\n",
        "\n",
        "## Dataset\n",
        "\n",
        "(i) Emotion Data: https://www.kaggle.com/datasets/nelgiriyewithana/emotions\n",
        "\n",
        "(ii) Violence Data: https://www.kaggle.com/datasets/gauravduttakiit/gender-based-violence-tweet-classification?select=Train.csv\n",
        "\n",
        "(iii) Hate Speech Data: https://www.kaggle.com/datasets/mrmorj/hate-speech-and-offensive-language-dataset\n",
        "\n",
        "\n",
        "**Emotions**\n",
        "\n",
        "0 : Sadness\n",
        "\n",
        "1 : Joy\n",
        "\n",
        "2 : Love\n",
        "\n",
        "3 : Anger\n",
        "\n",
        "4 : Fear\n",
        "\n",
        "5 : Surprise\n",
        "\n",
        "**Violence**\n",
        "\n",
        "0 : Harmful_Traditional_practice\n",
        "\n",
        "1 : Physical_violence\n",
        "\n",
        "2 : economic_violence\n",
        "\n",
        "3 : emotional_violence\n",
        "\n",
        "4 : sexual_violence\n",
        "\n",
        "**Hate**\n",
        "\n",
        "0 : Hate Speech\n",
        "\n",
        "1 : Offensive Speech\n",
        "\n",
        "2 : Neither\n"
      ]
    },
    {
      "cell_type": "markdown",
      "metadata": {
        "id": "5Dg6pKFhgfIq"
      },
      "source": [
        "## 0.Setup\n"
      ]
    },
    {
      "cell_type": "code",
      "execution_count": 1,
      "metadata": {
        "id": "GMN3HQ7lfBa9"
      },
      "outputs": [
        {
          "name": "stderr",
          "output_type": "stream",
          "text": [
            "Unable to revert mtime: /Library/Fonts\n",
            "Matplotlib is building the font cache; this may take a moment.\n"
          ]
        }
      ],
      "source": [
        "import pandas as pd\n",
        "import numpy as np\n",
        "\n",
        "# SK learn\n",
        "from sklearn.preprocessing import LabelEncoder\n",
        "from sklearn.metrics import confusion_matrix\n",
        "\n",
        "# NLP\n",
        "import nltk\n",
        "from nltk.corpus import stopwords\n",
        "\n",
        "# DeepLearning\n",
        "from tensorflow.keras.preprocessing.text import Tokenizer\n",
        "from tensorflow.keras.preprocessing.sequence import pad_sequences\n",
        "from tensorflow import keras\n",
        "\n",
        "\n",
        "# Visualize\n",
        "import matplotlib.pyplot as plt\n",
        "import seaborn as sns\n",
        "\n",
        "import warnings\n",
        "warnings.filterwarnings('ignore')"
      ]
    },
    {
      "cell_type": "code",
      "execution_count": 4,
      "metadata": {
        "colab": {
          "base_uri": "https://localhost:8080/"
        },
        "id": "Od79kbrJhkbx",
        "outputId": "7cc04060-a051-4007-d059-947bf43fb1a1"
      },
      "outputs": [
        {
          "name": "stdout",
          "output_type": "stream",
          "text": [
            "mkdir: /Users/magesh/.kaggle: File exists\n"
          ]
        }
      ],
      "source": [
        "! mkdir ~/.kaggle\n",
        "! cp ../kaggle-token.json ~/.kaggle/\n",
        "! chmod 600 ~/.kaggle/kaggle-token.json"
      ]
    },
    {
      "cell_type": "markdown",
      "metadata": {
        "id": "xD0H8w2VjT6w"
      },
      "source": [
        "## Download Dataset"
      ]
    },
    {
      "cell_type": "code",
      "execution_count": 5,
      "metadata": {
        "colab": {
          "base_uri": "https://localhost:8080/"
        },
        "id": "F6jS-xk0h8p5",
        "outputId": "ea1041d9-8c5a-4354-f9e9-95fcd839d0c3"
      },
      "outputs": [
        {
          "name": "stdout",
          "output_type": "stream",
          "text": [
            "Downloading emotions.zip to /Volumes/CodeHub/projects/ML/LSTM - P1/notebooks\n",
            "100%|██████████████████████████████████████| 15.7M/15.7M [00:05<00:00, 3.28MB/s]\n",
            "100%|██████████████████████████████████████| 15.7M/15.7M [00:05<00:00, 2.82MB/s]\n",
            "Downloading gender-based-violence-tweet-classification.zip to /Volumes/CodeHub/projects/ML/LSTM - P1/notebooks\n",
            " 97%|████████████████████████████████████▋ | 5.00M/5.17M [00:02<00:00, 2.46MB/s]\n",
            "100%|██████████████████████████████████████| 5.17M/5.17M [00:02<00:00, 1.97MB/s]\n",
            "Downloading hate-speech-and-offensive-language-dataset.zip to /Volumes/CodeHub/projects/ML/LSTM - P1/notebooks\n",
            " 99%|██████████████████████████████████████▊| 1.00M/1.01M [00:01<00:00, 776kB/s]\n",
            "100%|███████████████████████████████████████| 1.01M/1.01M [00:01<00:00, 780kB/s]\n"
          ]
        }
      ],
      "source": [
        "!kaggle datasets download -d nelgiriyewithana/emotions\n",
        "!kaggle datasets download -d gauravduttakiit/gender-based-violence-tweet-classification\n",
        "!kaggle datasets download -d mrmorj/hate-speech-and-offensive-language-dataset"
      ]
    },
    {
      "cell_type": "code",
      "execution_count": 7,
      "metadata": {
        "id": "LcpeDp8yir1A"
      },
      "outputs": [
        {
          "ename": "FileNotFoundError",
          "evalue": "[Errno 2] No such file or directory: './data/gender-based-violence-tweet-classification.zip'",
          "output_type": "error",
          "traceback": [
            "\u001b[0;31m---------------------------------------------------------------------------\u001b[0m",
            "\u001b[0;31mFileNotFoundError\u001b[0m                         Traceback (most recent call last)",
            "Cell \u001b[0;32mIn[7], line 12\u001b[0m\n\u001b[1;32m     10\u001b[0m \u001b[38;5;66;03m# Unzip the files into the 'data' folder\u001b[39;00m\n\u001b[1;32m     11\u001b[0m unzip_files(\u001b[38;5;124m\"\u001b[39m\u001b[38;5;124m../data/emotions.zip\u001b[39m\u001b[38;5;124m\"\u001b[39m, \u001b[38;5;124m\"\u001b[39m\u001b[38;5;124m../data/\u001b[39m\u001b[38;5;124m\"\u001b[39m)\n\u001b[0;32m---> 12\u001b[0m \u001b[43munzip_files\u001b[49m\u001b[43m(\u001b[49m\u001b[38;5;124;43m\"\u001b[39;49m\u001b[38;5;124;43m./data/gender-based-violence-tweet-classification.zip\u001b[39;49m\u001b[38;5;124;43m\"\u001b[39;49m\u001b[43m,\u001b[49m\u001b[43m \u001b[49m\u001b[38;5;124;43m\"\u001b[39;49m\u001b[38;5;124;43m../data/\u001b[39;49m\u001b[38;5;124;43m\"\u001b[39;49m\u001b[43m)\u001b[49m\n\u001b[1;32m     13\u001b[0m unzip_files(\u001b[38;5;124m\"\u001b[39m\u001b[38;5;124m./data/hate-speech-and-offensive-language-dataset.zip\u001b[39m\u001b[38;5;124m\"\u001b[39m, \u001b[38;5;124m\"\u001b[39m\u001b[38;5;124m../data/\u001b[39m\u001b[38;5;124m\"\u001b[39m)\n",
            "Cell \u001b[0;32mIn[7], line 7\u001b[0m, in \u001b[0;36munzip_files\u001b[0;34m(zip_filepath, extract_dir)\u001b[0m\n\u001b[1;32m      6\u001b[0m \u001b[38;5;28;01mdef\u001b[39;00m\u001b[38;5;250m \u001b[39m\u001b[38;5;21munzip_files\u001b[39m(zip_filepath, extract_dir):\n\u001b[0;32m----> 7\u001b[0m     \u001b[38;5;28;01mwith\u001b[39;00m \u001b[43mzipfile\u001b[49m\u001b[38;5;241;43m.\u001b[39;49m\u001b[43mZipFile\u001b[49m\u001b[43m(\u001b[49m\u001b[43mzip_filepath\u001b[49m\u001b[43m,\u001b[49m\u001b[43m \u001b[49m\u001b[38;5;124;43m'\u001b[39;49m\u001b[38;5;124;43mr\u001b[39;49m\u001b[38;5;124;43m'\u001b[39;49m\u001b[43m)\u001b[49m \u001b[38;5;28;01mas\u001b[39;00m zip_ref:\n\u001b[1;32m      8\u001b[0m         zip_ref\u001b[38;5;241m.\u001b[39mextractall(extract_dir)\n",
            "File \u001b[0;32m~/.pyenv/versions/3.9.7/lib/python3.9/zipfile.py:1239\u001b[0m, in \u001b[0;36mZipFile.__init__\u001b[0;34m(self, file, mode, compression, allowZip64, compresslevel, strict_timestamps)\u001b[0m\n\u001b[1;32m   1237\u001b[0m \u001b[38;5;28;01mwhile\u001b[39;00m \u001b[38;5;28;01mTrue\u001b[39;00m:\n\u001b[1;32m   1238\u001b[0m     \u001b[38;5;28;01mtry\u001b[39;00m:\n\u001b[0;32m-> 1239\u001b[0m         \u001b[38;5;28mself\u001b[39m\u001b[38;5;241m.\u001b[39mfp \u001b[38;5;241m=\u001b[39m \u001b[43mio\u001b[49m\u001b[38;5;241;43m.\u001b[39;49m\u001b[43mopen\u001b[49m\u001b[43m(\u001b[49m\u001b[43mfile\u001b[49m\u001b[43m,\u001b[49m\u001b[43m \u001b[49m\u001b[43mfilemode\u001b[49m\u001b[43m)\u001b[49m\n\u001b[1;32m   1240\u001b[0m     \u001b[38;5;28;01mexcept\u001b[39;00m \u001b[38;5;167;01mOSError\u001b[39;00m:\n\u001b[1;32m   1241\u001b[0m         \u001b[38;5;28;01mif\u001b[39;00m filemode \u001b[38;5;129;01min\u001b[39;00m modeDict:\n",
            "\u001b[0;31mFileNotFoundError\u001b[0m: [Errno 2] No such file or directory: './data/gender-based-violence-tweet-classification.zip'"
          ]
        }
      ],
      "source": [
        "import zipfile\n",
        "\n",
        "# Create the 'data' directory if it doesn't exist\n",
        "!mkdir -p data\n",
        "\n",
        "def unzip_files(zip_filepath, extract_dir):\n",
        "    with zipfile.ZipFile(zip_filepath, 'r') as zip_ref:\n",
        "        zip_ref.extractall(extract_dir)\n",
        "\n",
        "# Unzip the files into the 'data' folder\n",
        "unzip_files(\"../data/emotions.zip\", \"../data/\")\n",
        "unzip_files(\"../data/gender-based-violence-tweet-classification.zip\", \"../data/\")\n",
        "unzip_files(\"../data/hate-speech-and-offensive-language-dataset.zip\", \"../data/\")\n"
      ]
    },
    {
      "cell_type": "markdown",
      "metadata": {
        "id": "eqGekc6ok56e"
      },
      "source": [
        "## 1.Load Dataset"
      ]
    },
    {
      "cell_type": "code",
      "execution_count": 11,
      "metadata": {
        "id": "jBJYu9GTkMZ8"
      },
      "outputs": [],
      "source": [
        "emotion_df=pd.read_csv(\"../data/text.csv\")\n",
        "violence_df=pd.read_csv(\"../data/Train.csv\")\n",
        "hate_df=pd.read_csv(\"../data/labeled_data.csv\")"
      ]
    },
    {
      "cell_type": "markdown",
      "metadata": {
        "id": "7jaRZFL8mUeJ"
      },
      "source": [
        "## 1. Data Cleaning (Common for All Datasets)\n",
        "\n",
        "\n",
        "* Remove unwated columns\n",
        "\n",
        "* Rename columns\n",
        "\n",
        "* check for null values\n",
        "\n"
      ]
    },
    {
      "cell_type": "code",
      "execution_count": 12,
      "metadata": {
        "id": "ND20k3a9lJQh"
      },
      "outputs": [],
      "source": [
        "\n",
        "def clean_dataset(emotion_df, violence_df, hate_df):\n",
        "    \"\"\"Cleans the datasets by removing unwanted columns.\n",
        "\n",
        "    Args:\n",
        "        emotion_df: Pandas DataFrame containing emotion data.\n",
        "        violence_df: Pandas DataFrame containing violence data.\n",
        "        hate_df: Pandas DataFrame containing hate speech data.\n",
        "\n",
        "    Returns:\n",
        "        A tuple containing the cleaned DataFrames: (emotion_df, violence_df, hate_df).\n",
        "    \"\"\"\n",
        "    # remove unwanted columns\n",
        "    emotion_df.drop(columns=[\"Unnamed: 0\"], inplace=True)\n",
        "    violence_df.drop(columns=[\"Tweet_ID\"], inplace=True)\n",
        "    new_hate_df = hate_df[[\"tweet\", \"class\"]]  # pick only tweet and class\n",
        "\n",
        "    # rename the column\n",
        "\n",
        "    violence_df.rename(columns={\"tweet\":\"text\",\"type\":\"label\"},inplace=True)\n",
        "    new_hate_df.rename(columns={\"tweet\":\"text\",\"class\":\"label\"},inplace=True)\n",
        "\n",
        "    return emotion_df, violence_df, new_hate_df\n",
        "\n",
        "\n",
        "# Clean the datasets\n",
        "emotion_df, violence_df, hate_df = clean_dataset(emotion_df, violence_df, hate_df)"
      ]
    },
    {
      "cell_type": "code",
      "execution_count": 13,
      "metadata": {
        "colab": {
          "base_uri": "https://localhost:8080/"
        },
        "id": "B2Ty4KubmwiZ",
        "outputId": "56d085b5-73f5-4352-a50c-b334d8a6732c"
      },
      "outputs": [
        {
          "data": {
            "text/plain": [
              "(Index(['text', 'label'], dtype='object'),\n",
              " Index(['text', 'label'], dtype='object'),\n",
              " Index(['text', 'label'], dtype='object'))"
            ]
          },
          "execution_count": 13,
          "metadata": {},
          "output_type": "execute_result"
        }
      ],
      "source": [
        "emotion_df.columns,violence_df.columns,hate_df.columns"
      ]
    },
    {
      "cell_type": "markdown",
      "metadata": {
        "id": "VfUzJaMGobX5"
      },
      "source": [
        "### 2. Exploratory Data Analysis\n",
        "\n",
        "* check for class distributions\n",
        "\n",
        "\n"
      ]
    },
    {
      "cell_type": "code",
      "execution_count": 14,
      "metadata": {
        "colab": {
          "base_uri": "https://localhost:8080/"
        },
        "id": "BlrkmMpsnkjs",
        "outputId": "2f790124-d2ba-4355-fbae-67c990136eb4"
      },
      "outputs": [
        {
          "data": {
            "text/plain": [
              "(text     0\n",
              " label    0\n",
              " dtype: int64,\n",
              " text     0\n",
              " label    0\n",
              " dtype: int64,\n",
              " text     0\n",
              " label    0\n",
              " dtype: int64)"
            ]
          },
          "execution_count": 14,
          "metadata": {},
          "output_type": "execute_result"
        }
      ],
      "source": [
        "emotion_df.isnull().sum(),violence_df.isnull().sum(),hate_df.isnull().sum()"
      ]
    },
    {
      "cell_type": "code",
      "execution_count": 15,
      "metadata": {
        "colab": {
          "base_uri": "https://localhost:8080/",
          "height": 304
        },
        "id": "td1e3rdJohNI",
        "outputId": "837da82b-eb3f-4caa-8c42-3b187c222421"
      },
      "outputs": [
        {
          "data": {
            "text/plain": [
              "label\n",
              "1    141067\n",
              "0    121187\n",
              "3     57317\n",
              "4     47712\n",
              "2     34554\n",
              "5     14972\n",
              "Name: count, dtype: int64"
            ]
          },
          "execution_count": 15,
          "metadata": {},
          "output_type": "execute_result"
        }
      ],
      "source": [
        "emotion_df['label'].value_counts()"
      ]
    },
    {
      "cell_type": "code",
      "execution_count": 16,
      "metadata": {
        "colab": {
          "base_uri": "https://localhost:8080/",
          "height": 272
        },
        "id": "mSRxeMQxpsSl",
        "outputId": "9a1696f9-68f6-4166-e9c4-06aa8642b639"
      },
      "outputs": [
        {
          "data": {
            "text/plain": [
              "label\n",
              "sexual_violence                 32648\n",
              "Physical_violence                5946\n",
              "emotional_violence                651\n",
              "economic_violence                 217\n",
              "Harmful_Traditional_practice      188\n",
              "Name: count, dtype: int64"
            ]
          },
          "execution_count": 16,
          "metadata": {},
          "output_type": "execute_result"
        }
      ],
      "source": [
        "violence_df['label'].value_counts()"
      ]
    },
    {
      "cell_type": "code",
      "execution_count": 17,
      "metadata": {
        "colab": {
          "base_uri": "https://localhost:8080/",
          "height": 210
        },
        "id": "47dhfYtVqWJ5",
        "outputId": "4151ff22-a950-4d75-fd7a-b1c72a80e90c"
      },
      "outputs": [
        {
          "data": {
            "text/plain": [
              "label\n",
              "1    19190\n",
              "2     4163\n",
              "0     1430\n",
              "Name: count, dtype: int64"
            ]
          },
          "execution_count": 17,
          "metadata": {},
          "output_type": "execute_result"
        }
      ],
      "source": [
        "hate_df['label'].value_counts()"
      ]
    },
    {
      "cell_type": "code",
      "execution_count": 18,
      "metadata": {
        "id": "8yOEjqLhqgLP"
      },
      "outputs": [],
      "source": [
        "import pandas as pd\n",
        "import numpy as np\n",
        "\n",
        "def balance_datasets(emotion_df, violence_df, hate_df):\n",
        "    # Balance Emotion Data\n",
        "    e_df = pd.DataFrame()\n",
        "    for i in range(6):\n",
        "        subset = emotion_df[emotion_df['label'] == i].sample(n=2000, random_state=42)\n",
        "        e_df = pd.concat([e_df, subset])\n",
        "    emotion_df = e_df.copy()\n",
        "\n",
        "    # Balance Violence Data\n",
        "    sexual_violence = violence_df[violence_df['label'] == 'sexual_violence'].sample(n=4998, random_state=42)\n",
        "    violence_df = violence_df[violence_df['label'] != 'sexual_violence']\n",
        "    violence_df = pd.concat([sexual_violence, violence_df], axis=0)\n",
        "\n",
        "    # Balance Hate Speech Data\n",
        "    offensive_speech = hate_df[hate_df['label'] == 1].sample(n=6407, random_state=42)\n",
        "    hate_df = hate_df[hate_df['label'] != 1]\n",
        "    hate_df = pd.concat([offensive_speech, hate_df], axis=0)\n",
        "\n",
        "    return emotion_df, violence_df, hate_df\n",
        "\n",
        "emotion_df, violence_df, hate_df = balance_datasets(emotion_df, violence_df, hate_df)\n"
      ]
    },
    {
      "cell_type": "code",
      "execution_count": 19,
      "metadata": {
        "colab": {
          "base_uri": "https://localhost:8080/"
        },
        "id": "jymKcJlxuqPn",
        "outputId": "e848ea66-13e9-4c6e-9abb-62df0c70779d"
      },
      "outputs": [
        {
          "data": {
            "text/plain": [
              "((12000, 2), (12000, 2), (12000, 2))"
            ]
          },
          "execution_count": 19,
          "metadata": {},
          "output_type": "execute_result"
        }
      ],
      "source": [
        "emotion_df.shape, violence_df.shape, hate_df.shape"
      ]
    },
    {
      "cell_type": "code",
      "execution_count": 20,
      "metadata": {
        "id": "zQzQsYesuszj"
      },
      "outputs": [],
      "source": [
        "#resetting the indexes\n",
        "emotion_df.reset_index(drop = True, inplace = True)\n",
        "violence_df.reset_index(drop = True, inplace = True)\n",
        "hate_df.reset_index(drop = True, inplace = True)"
      ]
    },
    {
      "cell_type": "code",
      "execution_count": 21,
      "metadata": {
        "colab": {
          "base_uri": "https://localhost:8080/",
          "height": 206
        },
        "id": "GLEjyOqfvF0b",
        "outputId": "f454b92f-77c4-4e40-e23d-92f8c69da6aa"
      },
      "outputs": [
        {
          "data": {
            "text/html": [
              "<div>\n",
              "<style scoped>\n",
              "    .dataframe tbody tr th:only-of-type {\n",
              "        vertical-align: middle;\n",
              "    }\n",
              "\n",
              "    .dataframe tbody tr th {\n",
              "        vertical-align: top;\n",
              "    }\n",
              "\n",
              "    .dataframe thead th {\n",
              "        text-align: right;\n",
              "    }\n",
              "</style>\n",
              "<table border=\"1\" class=\"dataframe\">\n",
              "  <thead>\n",
              "    <tr style=\"text-align: right;\">\n",
              "      <th></th>\n",
              "      <th>text</th>\n",
              "      <th>label</th>\n",
              "    </tr>\n",
              "  </thead>\n",
              "  <tbody>\n",
              "    <tr>\n",
              "      <th>0</th>\n",
              "      <td>ive learned to surround myself with women who ...</td>\n",
              "      <td>0</td>\n",
              "    </tr>\n",
              "    <tr>\n",
              "      <th>1</th>\n",
              "      <td>i already feel crappy because of this and you ...</td>\n",
              "      <td>0</td>\n",
              "    </tr>\n",
              "    <tr>\n",
              "      <th>2</th>\n",
              "      <td>i feel like i have lost mourned and moved past...</td>\n",
              "      <td>0</td>\n",
              "    </tr>\n",
              "    <tr>\n",
              "      <th>3</th>\n",
              "      <td>i could write a whole lot more about why im fe...</td>\n",
              "      <td>0</td>\n",
              "    </tr>\n",
              "    <tr>\n",
              "      <th>4</th>\n",
              "      <td>i always seem to feel inadequate</td>\n",
              "      <td>0</td>\n",
              "    </tr>\n",
              "  </tbody>\n",
              "</table>\n",
              "</div>"
            ],
            "text/plain": [
              "                                                text  label\n",
              "0  ive learned to surround myself with women who ...      0\n",
              "1  i already feel crappy because of this and you ...      0\n",
              "2  i feel like i have lost mourned and moved past...      0\n",
              "3  i could write a whole lot more about why im fe...      0\n",
              "4                   i always seem to feel inadequate      0"
            ]
          },
          "execution_count": 21,
          "metadata": {},
          "output_type": "execute_result"
        }
      ],
      "source": [
        "emotion_df.head()"
      ]
    },
    {
      "cell_type": "code",
      "execution_count": 22,
      "metadata": {
        "colab": {
          "base_uri": "https://localhost:8080/",
          "height": 206
        },
        "id": "-ESAskRfvHCK",
        "outputId": "a01d333d-786d-4067-f901-32d3b263d6d7"
      },
      "outputs": [
        {
          "data": {
            "text/html": [
              "<div>\n",
              "<style scoped>\n",
              "    .dataframe tbody tr th:only-of-type {\n",
              "        vertical-align: middle;\n",
              "    }\n",
              "\n",
              "    .dataframe tbody tr th {\n",
              "        vertical-align: top;\n",
              "    }\n",
              "\n",
              "    .dataframe thead th {\n",
              "        text-align: right;\n",
              "    }\n",
              "</style>\n",
              "<table border=\"1\" class=\"dataframe\">\n",
              "  <thead>\n",
              "    <tr style=\"text-align: right;\">\n",
              "      <th></th>\n",
              "      <th>text</th>\n",
              "      <th>label</th>\n",
              "    </tr>\n",
              "  </thead>\n",
              "  <tbody>\n",
              "    <tr>\n",
              "      <th>0</th>\n",
              "      <td>My cousin was raped by this guy Matthew. She w...</td>\n",
              "      <td>sexual_violence</td>\n",
              "    </tr>\n",
              "    <tr>\n",
              "      <th>1</th>\n",
              "      <td>HAHAHAHAHAHAHHA I DIDN’T SEE IT THE FIRST TIME...</td>\n",
              "      <td>sexual_violence</td>\n",
              "    </tr>\n",
              "    <tr>\n",
              "      <th>2</th>\n",
              "      <td>I remember how I almost got raped like it was ...</td>\n",
              "      <td>sexual_violence</td>\n",
              "    </tr>\n",
              "    <tr>\n",
              "      <th>3</th>\n",
              "      <td>He raped me 👈</td>\n",
              "      <td>sexual_violence</td>\n",
              "    </tr>\n",
              "    <tr>\n",
              "      <th>4</th>\n",
              "      <td>A woman raped by A male: psychological horror,...</td>\n",
              "      <td>sexual_violence</td>\n",
              "    </tr>\n",
              "  </tbody>\n",
              "</table>\n",
              "</div>"
            ],
            "text/plain": [
              "                                                text            label\n",
              "0  My cousin was raped by this guy Matthew. She w...  sexual_violence\n",
              "1  HAHAHAHAHAHAHHA I DIDN’T SEE IT THE FIRST TIME...  sexual_violence\n",
              "2  I remember how I almost got raped like it was ...  sexual_violence\n",
              "3                                      He raped me 👈  sexual_violence\n",
              "4  A woman raped by A male: psychological horror,...  sexual_violence"
            ]
          },
          "execution_count": 22,
          "metadata": {},
          "output_type": "execute_result"
        }
      ],
      "source": [
        "violence_df.head()"
      ]
    },
    {
      "cell_type": "code",
      "execution_count": 23,
      "metadata": {
        "colab": {
          "base_uri": "https://localhost:8080/",
          "height": 206
        },
        "id": "nZUOn2G6vLbU",
        "outputId": "6f8dde26-eb6a-4d6e-c3be-2df4496263a7"
      },
      "outputs": [
        {
          "data": {
            "text/html": [
              "<div>\n",
              "<style scoped>\n",
              "    .dataframe tbody tr th:only-of-type {\n",
              "        vertical-align: middle;\n",
              "    }\n",
              "\n",
              "    .dataframe tbody tr th {\n",
              "        vertical-align: top;\n",
              "    }\n",
              "\n",
              "    .dataframe thead th {\n",
              "        text-align: right;\n",
              "    }\n",
              "</style>\n",
              "<table border=\"1\" class=\"dataframe\">\n",
              "  <thead>\n",
              "    <tr style=\"text-align: right;\">\n",
              "      <th></th>\n",
              "      <th>text</th>\n",
              "      <th>label</th>\n",
              "    </tr>\n",
              "  </thead>\n",
              "  <tbody>\n",
              "    <tr>\n",
              "      <th>0</th>\n",
              "      <td>Why is it everytime I go to cracker barrel the...</td>\n",
              "      <td>1</td>\n",
              "    </tr>\n",
              "    <tr>\n",
              "      <th>1</th>\n",
              "      <td>Run that nigga, you don't want that nigga, but...</td>\n",
              "      <td>1</td>\n",
              "    </tr>\n",
              "    <tr>\n",
              "      <th>2</th>\n",
              "      <td>I need a girl from Jamaica I can't fuck with t...</td>\n",
              "      <td>1</td>\n",
              "    </tr>\n",
              "    <tr>\n",
              "      <th>3</th>\n",
              "      <td>RT @ShadowBeatz_Inc: I know you have me blocke...</td>\n",
              "      <td>1</td>\n",
              "    </tr>\n",
              "    <tr>\n",
              "      <th>4</th>\n",
              "      <td>Put ya hands up if you a Grade A bitch</td>\n",
              "      <td>1</td>\n",
              "    </tr>\n",
              "  </tbody>\n",
              "</table>\n",
              "</div>"
            ],
            "text/plain": [
              "                                                text  label\n",
              "0  Why is it everytime I go to cracker barrel the...      1\n",
              "1  Run that nigga, you don't want that nigga, but...      1\n",
              "2  I need a girl from Jamaica I can't fuck with t...      1\n",
              "3  RT @ShadowBeatz_Inc: I know you have me blocke...      1\n",
              "4             Put ya hands up if you a Grade A bitch      1"
            ]
          },
          "execution_count": 23,
          "metadata": {},
          "output_type": "execute_result"
        }
      ],
      "source": [
        "hate_df.head()"
      ]
    },
    {
      "cell_type": "markdown",
      "metadata": {},
      "source": [
        "## 3. Text Preprocessing\n",
        "* label encoding\n",
        "* Clean text - remove URLs, special characters, etc.\n",
        "* Tokenization\n",
        "* Padding sequences"
      ]
    },
    {
      "cell_type": "code",
      "execution_count": 29,
      "metadata": {},
      "outputs": [],
      "source": [
        "# for violence_df convert str to labels\n",
        "label_encoder = LabelEncoder()\n",
        "violence_df['label'] = label_encoder.fit_transform(violence_df['label'])"
      ]
    },
    {
      "cell_type": "code",
      "execution_count": 36,
      "metadata": {},
      "outputs": [
        {
          "name": "stderr",
          "output_type": "stream",
          "text": [
            "[nltk_data] Downloading package stopwords to\n",
            "[nltk_data]     /Users/magesh/nltk_data...\n",
            "[nltk_data]   Package stopwords is already up-to-date!\n",
            "[nltk_data] Downloading package punkt to /Users/magesh/nltk_data...\n",
            "[nltk_data]   Package punkt is already up-to-date!\n",
            "[nltk_data] Downloading package wordnet to /Users/magesh/nltk_data...\n",
            "[nltk_data]   Package wordnet is already up-to-date!\n",
            "[nltk_data] Downloading package punkt_tab to\n",
            "[nltk_data]     /Users/magesh/nltk_data...\n",
            "[nltk_data]   Unzipping tokenizers/punkt_tab.zip.\n"
          ]
        },
        {
          "data": {
            "text/plain": [
              "True"
            ]
          },
          "execution_count": 36,
          "metadata": {},
          "output_type": "execute_result"
        }
      ],
      "source": [
        "nltk.download('stopwords')\n",
        "nltk.download('punkt')\n",
        "nltk.download('wordnet')\n",
        "nltk.download('punkt_tab')"
      ]
    },
    {
      "cell_type": "code",
      "execution_count": 37,
      "metadata": {},
      "outputs": [],
      "source": [
        "# Download required NLTK resources\n",
        "\n",
        "from nltk.stem import WordNetLemmatizer\n",
        "from nltk.tokenize import word_tokenize\n",
        "import re\n",
        "import string\n",
        "\n",
        "# Initialize lemmatizer\n",
        "lemmatizer = WordNetLemmatizer()\n",
        "# Get English stopwords\n",
        "stop_words = set(stopwords.words('english'))\n",
        "\n",
        "def clean_text(text):\n",
        "    \"\"\"\n",
        "    Clean and preprocess text data:\n",
        "    - Convert to lowercase\n",
        "    - Remove URLs, mentions, special characters\n",
        "    - Remove punctuation\n",
        "    - Remove stopwords\n",
        "    - Lemmatize words\n",
        "    \n",
        "    Args:\n",
        "        text: String containing text to be cleaned\n",
        "        \n",
        "    Returns:\n",
        "        Cleaned text string\n",
        "    \"\"\"\n",
        "    if isinstance(text, str):\n",
        "        # Convert to lowercase\n",
        "        text = text.lower()\n",
        "        \n",
        "        # Remove URLs\n",
        "        text = re.sub(r'http\\S+|www\\S+', '', text)\n",
        "        \n",
        "        # Remove mentions (@username)\n",
        "        text = re.sub(r'@\\w+', '', text)\n",
        "        \n",
        "        # Remove hashtags\n",
        "        text = re.sub(r'#\\w+', '', text)\n",
        "        \n",
        "        # Remove numbers\n",
        "        text = re.sub(r'\\d+', '', text)\n",
        "        \n",
        "        # Remove punctuation\n",
        "        text = text.translate(str.maketrans('', '', string.punctuation))\n",
        "        \n",
        "        # Tokenize text\n",
        "        tokens = word_tokenize(text)\n",
        "        \n",
        "        # Remove stopwords and lemmatize\n",
        "        tokens = [lemmatizer.lemmatize(word) for word in tokens if word not in stop_words]\n",
        "        \n",
        "        # Join tokens back into string\n",
        "        return ' '.join(tokens)\n",
        "    return ''"
      ]
    },
    {
      "cell_type": "code",
      "execution_count": 38,
      "metadata": {},
      "outputs": [],
      "source": [
        "emotion_df['text'] = emotion_df['text'].apply(clean_text)\n",
        "violence_df['text'] = violence_df['text'].apply(clean_text)\n",
        "hate_df['text'] = hate_df['text'].apply(clean_text)"
      ]
    },
    {
      "cell_type": "markdown",
      "metadata": {},
      "source": [
        "## 4. Tokenization and Sequence Padding\n",
        "\n",
        "* Create a tokenizer\n",
        "* Convert text to sequences\n",
        "* Pad sequences to uniform length"
      ]
    },
    {
      "cell_type": "code",
      "execution_count": 40,
      "metadata": {},
      "outputs": [],
      "source": [
        "# Set parameters for tokenization and padding\n",
        "MAX_NUM_WORDS = 10000  # Maximum number of words to keep in the vocabulary\n",
        "MAX_SEQUENCE_LENGTH = 100  # Maximum length of all sequences\n",
        "EMBEDDING_DIM = 100  # Dimensionality of word embeddings"
      ]
    },
    {
      "cell_type": "code",
      "execution_count": 41,
      "metadata": {},
      "outputs": [],
      "source": [
        "def tokenize_and_pad(texts, max_words=MAX_NUM_WORDS, max_length=MAX_SEQUENCE_LENGTH):\n",
        "    \"\"\"\n",
        "    Tokenize text data and pad sequences to a uniform length.\n",
        "    \n",
        "    Args:\n",
        "        texts: List of text strings to tokenize and pad\n",
        "        max_words: Maximum number of words to keep in the vocabulary\n",
        "        max_length: Maximum length of all sequences\n",
        "        \n",
        "    Returns:\n",
        "        Tuple containing (padded_sequences, tokenizer)\n",
        "    \"\"\"\n",
        "    # Create a tokenizer\n",
        "    tokenizer = Tokenizer(num_words=max_words)\n",
        "    \n",
        "    # Fit the tokenizer on the texts\n",
        "    tokenizer.fit_on_texts(texts)\n",
        "    \n",
        "    # Convert texts to sequences\n",
        "    sequences = tokenizer.texts_to_sequences(texts)\n",
        "    \n",
        "    # Pad sequences to a uniform length\n",
        "    padded_sequences = pad_sequences(sequences, maxlen=max_length)\n",
        "    \n",
        "    # Get the word index\n",
        "    word_index = tokenizer.word_index\n",
        "    print(f\"Found {len(word_index)} unique tokens.\")\n",
        "    \n",
        "    return padded_sequences, tokenizer, word_index"
      ]
    },
    {
      "cell_type": "code",
      "execution_count": 42,
      "metadata": {},
      "outputs": [
        {
          "name": "stdout",
          "output_type": "stream",
          "text": [
            "Found 11776 unique tokens.\n",
            "Found 19249 unique tokens.\n",
            "Found 13228 unique tokens.\n"
          ]
        }
      ],
      "source": [
        "# Process each dataset\n",
        "emotion_sequences, emotion_tokenizer, emotion_word_index = tokenize_and_pad(emotion_df['text'])\n",
        "violence_sequences, violence_tokenizer, violence_word_index = tokenize_and_pad(violence_df['text'])\n",
        "hate_sequences, hate_tokenizer, hate_word_index = tokenize_and_pad(hate_df['text'])"
      ]
    },
    {
      "cell_type": "code",
      "execution_count": 43,
      "metadata": {},
      "outputs": [
        {
          "name": "stdout",
          "output_type": "stream",
          "text": [
            "Emotion sequences shape: (12000, 100)\n",
            "Violence sequences shape: (12000, 100)\n",
            "Hate sequences shape: (12000, 100)\n"
          ]
        }
      ],
      "source": [
        "# Check the shape of the padded sequences\n",
        "print(f\"Emotion sequences shape: {emotion_sequences.shape}\")\n",
        "print(f\"Violence sequences shape: {violence_sequences.shape}\")\n",
        "print(f\"Hate sequences shape: {hate_sequences.shape}\")"
      ]
    },
    {
      "cell_type": "code",
      "execution_count": 44,
      "metadata": {},
      "outputs": [
        {
          "name": "stdout",
          "output_type": "stream",
          "text": [
            "Original text:\n",
            "ive learned surround woman lift leave feeling nurtured rather drained\n",
            "\n",
            "Tokenized sequence (first 10 tokens):\n",
            "[0 0 0 0 0 0 0 0 0 0]\n",
            "\n",
            "Sample words from vocabulary:\n",
            "feel: 1\n",
            "feeling: 2\n",
            "like: 3\n",
            "im: 4\n",
            "really: 5\n",
            "time: 6\n",
            "know: 7\n",
            "little: 8\n",
            "get: 9\n",
            "people: 10\n"
          ]
        }
      ],
      "source": [
        "# Examine a sample sequence\n",
        "print(\"Original text:\")\n",
        "print(emotion_df['text'][0])\n",
        "print(\"\\nTokenized sequence (first 10 tokens):\")\n",
        "print(emotion_sequences[0][:10])\n",
        "\n",
        "# Display a few words from the vocabulary\n",
        "word_dict = list(emotion_word_index.items())\n",
        "print(\"\\nSample words from vocabulary:\")\n",
        "for word, index in sorted(word_dict[:10], key=lambda x: x[1]):\n",
        "    print(f\"{word}: {index}\")"
      ]
    },
    {
      "cell_type": "markdown",
      "metadata": {},
      "source": [
        "### Save Tokenizers for Later Use\n",
        "\n",
        "It's a good practice to save your tokenizers for later use in inference or deployment."
      ]
    },
    {
      "cell_type": "code",
      "execution_count": 45,
      "metadata": {},
      "outputs": [
        {
          "name": "stdout",
          "output_type": "stream",
          "text": [
            "Tokenizers saved successfully.\n"
          ]
        }
      ],
      "source": [
        "import pickle\n",
        "import os\n",
        "\n",
        "# Create a directory for saving tokenizers if it doesn't exist\n",
        "os.makedirs('../models/tokenizers', exist_ok=True)\n",
        "\n",
        "# Save the tokenizers\n",
        "with open('../models/tokenizers/emotion_tokenizer.pickle', 'wb') as handle:\n",
        "    pickle.dump(emotion_tokenizer, handle, protocol=pickle.HIGHEST_PROTOCOL)\n",
        "    \n",
        "with open('../models/tokenizers/violence_tokenizer.pickle', 'wb') as handle:\n",
        "    pickle.dump(violence_tokenizer, handle, protocol=pickle.HIGHEST_PROTOCOL)\n",
        "    \n",
        "with open('../models/tokenizers/hate_tokenizer.pickle', 'wb') as handle:\n",
        "    pickle.dump(hate_tokenizer, handle, protocol=pickle.HIGHEST_PROTOCOL)\n",
        "    \n",
        "print(\"Tokenizers saved successfully.\")"
      ]
    },
    {
      "cell_type": "markdown",
      "metadata": {},
      "source": [
        "## 5. Data Preparation for Training\n",
        "\n",
        "* Split data into training and validation sets\n",
        "* Prepare labels (one-hot encoding if needed)"
      ]
    },
    {
      "cell_type": "code",
      "execution_count": 46,
      "metadata": {},
      "outputs": [],
      "source": [
        "from sklearn.model_selection import train_test_split\n",
        "\n",
        "# Function to split data into train and validation sets\n",
        "def prepare_train_val_data(sequences, labels, test_size=0.2, random_state=42):\n",
        "    \"\"\"\n",
        "    Split sequences and labels into training and validation sets.\n",
        "    \n",
        "    Args:\n",
        "        sequences: Padded sequences\n",
        "        labels: Corresponding labels\n",
        "        test_size: Proportion of data to use for validation\n",
        "        random_state: Random seed for reproducibility\n",
        "        \n",
        "    Returns:\n",
        "        Tuple containing (X_train, X_val, y_train, y_val)\n",
        "    \"\"\"\n",
        "    return train_test_split(sequences, labels, test_size=test_size, random_state=random_state)\n",
        "\n",
        "# Split each dataset\n",
        "X_emotion_train, X_emotion_val, y_emotion_train, y_emotion_val = prepare_train_val_data(\n",
        "    emotion_sequences, emotion_df['label'].values\n",
        ")\n",
        "\n",
        "X_violence_train, X_violence_val, y_violence_train, y_violence_val = prepare_train_val_data(\n",
        "    violence_sequences, violence_df['label'].values\n",
        ")\n",
        "\n",
        "X_hate_train, X_hate_val, y_hate_train, y_hate_val = prepare_train_val_data(\n",
        "    hate_sequences, hate_df['label'].values\n",
        ")"
      ]
    },
    {
      "cell_type": "code",
      "execution_count": 47,
      "metadata": {},
      "outputs": [
        {
          "name": "stdout",
          "output_type": "stream",
          "text": [
            "Number of emotion classes: 6\n",
            "Number of violence classes: 5\n",
            "Number of hate classes: 3\n"
          ]
        }
      ],
      "source": [
        "# One-hot encode labels for multi-class classification\n",
        "from tensorflow.keras.utils import to_categorical\n",
        "\n",
        "# Number of classes in each task\n",
        "num_emotion_classes = len(np.unique(emotion_df['label']))\n",
        "num_violence_classes = len(np.unique(violence_df['label']))\n",
        "num_hate_classes = len(np.unique(hate_df['label']))\n",
        "\n",
        "print(f\"Number of emotion classes: {num_emotion_classes}\")\n",
        "print(f\"Number of violence classes: {num_violence_classes}\")\n",
        "print(f\"Number of hate classes: {num_hate_classes}\")\n",
        "\n",
        "# Convert labels to one-hot encoding\n",
        "y_emotion_train_categorical = to_categorical(y_emotion_train, num_classes=num_emotion_classes)\n",
        "y_emotion_val_categorical = to_categorical(y_emotion_val, num_classes=num_emotion_classes)\n",
        "\n",
        "y_violence_train_categorical = to_categorical(y_violence_train, num_classes=num_violence_classes)\n",
        "y_violence_val_categorical = to_categorical(y_violence_val, num_classes=num_violence_classes)\n",
        "\n",
        "y_hate_train_categorical = to_categorical(y_hate_train, num_classes=num_hate_classes)\n",
        "y_hate_val_categorical = to_categorical(y_hate_val, num_classes=num_hate_classes)"
      ]
    },
    {
      "cell_type": "code",
      "execution_count": null,
      "metadata": {},
      "outputs": [],
      "source": []
    }
  ],
  "metadata": {
    "colab": {
      "provenance": []
    },
    "kernelspec": {
      "display_name": "venv",
      "language": "python",
      "name": "python3"
    },
    "language_info": {
      "codemirror_mode": {
        "name": "ipython",
        "version": 3
      },
      "file_extension": ".py",
      "mimetype": "text/x-python",
      "name": "python",
      "nbconvert_exporter": "python",
      "pygments_lexer": "ipython3",
      "version": "3.9.7"
    }
  },
  "nbformat": 4,
  "nbformat_minor": 0
}
