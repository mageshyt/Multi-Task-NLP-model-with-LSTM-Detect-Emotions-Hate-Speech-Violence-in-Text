{
  "cells": [
    {
      "cell_type": "markdown",
      "metadata": {
        "id": "MsSZQOP0fLgn"
      },
      "source": [
        "# Building Multi-Task NLP model with LSTM : Detect Emotions, Hate Speech & Violence in Text\n",
        "\n",
        "> Detect Emotion , violence , Hate Speech\n",
        "\n",
        "\n",
        "\n",
        "## Dataset\n",
        "\n",
        "(i) Emotion Data: https://www.kaggle.com/datasets/nelgiriyewithana/emotions\n",
        "\n",
        "(ii) Violence Data: https://www.kaggle.com/datasets/gauravduttakiit/gender-based-violence-tweet-classification?select=Train.csv\n",
        "\n",
        "(iii) Hate Speech Data: https://www.kaggle.com/datasets/mrmorj/hate-speech-and-offensive-language-dataset\n",
        "\n",
        "\n",
        "**Emotions**\n",
        "\n",
        "0 : Sadness\n",
        "\n",
        "1 : Joy\n",
        "\n",
        "2 : Love\n",
        "\n",
        "3 : Anger\n",
        "\n",
        "4 : Fear\n",
        "\n",
        "5 : Surprise\n",
        "\n",
        "**Violence**\n",
        "\n",
        "0 : Harmful_Traditional_practice\n",
        "\n",
        "1 : Physical_violence\n",
        "\n",
        "2 : economic_violence\n",
        "\n",
        "3 : emotional_violence\n",
        "\n",
        "4 : sexual_violence\n",
        "\n",
        "**Hate**\n",
        "\n",
        "0 : Hate Speech\n",
        "\n",
        "1 : Offensive Speech\n",
        "\n",
        "2 : Neither\n"
      ]
    },
    {
      "cell_type": "markdown",
      "metadata": {
        "id": "5Dg6pKFhgfIq"
      },
      "source": [
        "## 0.Setup\n"
      ]
    },
    {
      "cell_type": "code",
      "execution_count": 1,
      "metadata": {
        "id": "GMN3HQ7lfBa9"
      },
      "outputs": [
        {
          "name": "stderr",
          "output_type": "stream",
          "text": [
            "Unable to revert mtime: /Library/Fonts\n",
            "Matplotlib is building the font cache; this may take a moment.\n"
          ]
        }
      ],
      "source": [
        "import pandas as pd\n",
        "import numpy as np\n",
        "\n",
        "# SK learn\n",
        "from sklearn.preprocessing import LabelEncoder\n",
        "from sklearn.metrics import confusion_matrix\n",
        "\n",
        "# NLP\n",
        "import nltk\n",
        "from nltk.corpus import stopwords\n",
        "\n",
        "# DeepLearning\n",
        "from tensorflow.keras.preprocessing.text import Tokenizer\n",
        "from tensorflow.keras.preprocessing.sequence import pad_sequences\n",
        "from tensorflow import keras\n",
        "\n",
        "\n",
        "# Visualize\n",
        "import matplotlib.pyplot as plt\n",
        "import seaborn as sns\n",
        "\n",
        "import warnings\n",
        "warnings.filterwarnings('ignore')"
      ]
    },
    {
      "cell_type": "code",
      "execution_count": 4,
      "metadata": {
        "colab": {
          "base_uri": "https://localhost:8080/"
        },
        "id": "Od79kbrJhkbx",
        "outputId": "7cc04060-a051-4007-d059-947bf43fb1a1"
      },
      "outputs": [
        {
          "name": "stdout",
          "output_type": "stream",
          "text": [
            "mkdir: /Users/magesh/.kaggle: File exists\n"
          ]
        }
      ],
      "source": [
        "! mkdir ~/.kaggle\n",
        "! cp ../kaggle-token.json ~/.kaggle/\n",
        "! chmod 600 ~/.kaggle/kaggle-token.json"
      ]
    },
    {
      "cell_type": "markdown",
      "metadata": {
        "id": "xD0H8w2VjT6w"
      },
      "source": [
        "## Download Dataset"
      ]
    },
    {
      "cell_type": "code",
      "execution_count": 5,
      "metadata": {
        "colab": {
          "base_uri": "https://localhost:8080/"
        },
        "id": "F6jS-xk0h8p5",
        "outputId": "ea1041d9-8c5a-4354-f9e9-95fcd839d0c3"
      },
      "outputs": [
        {
          "name": "stdout",
          "output_type": "stream",
          "text": [
            "Downloading emotions.zip to /Volumes/CodeHub/projects/ML/LSTM - P1/notebooks\n",
            "100%|██████████████████████████████████████| 15.7M/15.7M [00:05<00:00, 3.28MB/s]\n",
            "100%|██████████████████████████████████████| 15.7M/15.7M [00:05<00:00, 2.82MB/s]\n",
            "Downloading gender-based-violence-tweet-classification.zip to /Volumes/CodeHub/projects/ML/LSTM - P1/notebooks\n",
            " 97%|████████████████████████████████████▋ | 5.00M/5.17M [00:02<00:00, 2.46MB/s]\n",
            "100%|██████████████████████████████████████| 5.17M/5.17M [00:02<00:00, 1.97MB/s]\n",
            "Downloading hate-speech-and-offensive-language-dataset.zip to /Volumes/CodeHub/projects/ML/LSTM - P1/notebooks\n",
            " 99%|██████████████████████████████████████▊| 1.00M/1.01M [00:01<00:00, 776kB/s]\n",
            "100%|███████████████████████████████████████| 1.01M/1.01M [00:01<00:00, 780kB/s]\n"
          ]
        }
      ],
      "source": [
        "!kaggle datasets download -d nelgiriyewithana/emotions\n",
        "!kaggle datasets download -d gauravduttakiit/gender-based-violence-tweet-classification\n",
        "!kaggle datasets download -d mrmorj/hate-speech-and-offensive-language-dataset"
      ]
    },
    {
      "cell_type": "code",
      "execution_count": 7,
      "metadata": {
        "id": "LcpeDp8yir1A"
      },
      "outputs": [
        {
          "ename": "FileNotFoundError",
          "evalue": "[Errno 2] No such file or directory: './data/gender-based-violence-tweet-classification.zip'",
          "output_type": "error",
          "traceback": [
            "\u001b[0;31m---------------------------------------------------------------------------\u001b[0m",
            "\u001b[0;31mFileNotFoundError\u001b[0m                         Traceback (most recent call last)",
            "Cell \u001b[0;32mIn[7], line 12\u001b[0m\n\u001b[1;32m     10\u001b[0m \u001b[38;5;66;03m# Unzip the files into the 'data' folder\u001b[39;00m\n\u001b[1;32m     11\u001b[0m unzip_files(\u001b[38;5;124m\"\u001b[39m\u001b[38;5;124m../data/emotions.zip\u001b[39m\u001b[38;5;124m\"\u001b[39m, \u001b[38;5;124m\"\u001b[39m\u001b[38;5;124m../data/\u001b[39m\u001b[38;5;124m\"\u001b[39m)\n\u001b[0;32m---> 12\u001b[0m \u001b[43munzip_files\u001b[49m\u001b[43m(\u001b[49m\u001b[38;5;124;43m\"\u001b[39;49m\u001b[38;5;124;43m./data/gender-based-violence-tweet-classification.zip\u001b[39;49m\u001b[38;5;124;43m\"\u001b[39;49m\u001b[43m,\u001b[49m\u001b[43m \u001b[49m\u001b[38;5;124;43m\"\u001b[39;49m\u001b[38;5;124;43m../data/\u001b[39;49m\u001b[38;5;124;43m\"\u001b[39;49m\u001b[43m)\u001b[49m\n\u001b[1;32m     13\u001b[0m unzip_files(\u001b[38;5;124m\"\u001b[39m\u001b[38;5;124m./data/hate-speech-and-offensive-language-dataset.zip\u001b[39m\u001b[38;5;124m\"\u001b[39m, \u001b[38;5;124m\"\u001b[39m\u001b[38;5;124m../data/\u001b[39m\u001b[38;5;124m\"\u001b[39m)\n",
            "Cell \u001b[0;32mIn[7], line 7\u001b[0m, in \u001b[0;36munzip_files\u001b[0;34m(zip_filepath, extract_dir)\u001b[0m\n\u001b[1;32m      6\u001b[0m \u001b[38;5;28;01mdef\u001b[39;00m\u001b[38;5;250m \u001b[39m\u001b[38;5;21munzip_files\u001b[39m(zip_filepath, extract_dir):\n\u001b[0;32m----> 7\u001b[0m     \u001b[38;5;28;01mwith\u001b[39;00m \u001b[43mzipfile\u001b[49m\u001b[38;5;241;43m.\u001b[39;49m\u001b[43mZipFile\u001b[49m\u001b[43m(\u001b[49m\u001b[43mzip_filepath\u001b[49m\u001b[43m,\u001b[49m\u001b[43m \u001b[49m\u001b[38;5;124;43m'\u001b[39;49m\u001b[38;5;124;43mr\u001b[39;49m\u001b[38;5;124;43m'\u001b[39;49m\u001b[43m)\u001b[49m \u001b[38;5;28;01mas\u001b[39;00m zip_ref:\n\u001b[1;32m      8\u001b[0m         zip_ref\u001b[38;5;241m.\u001b[39mextractall(extract_dir)\n",
            "File \u001b[0;32m~/.pyenv/versions/3.9.7/lib/python3.9/zipfile.py:1239\u001b[0m, in \u001b[0;36mZipFile.__init__\u001b[0;34m(self, file, mode, compression, allowZip64, compresslevel, strict_timestamps)\u001b[0m\n\u001b[1;32m   1237\u001b[0m \u001b[38;5;28;01mwhile\u001b[39;00m \u001b[38;5;28;01mTrue\u001b[39;00m:\n\u001b[1;32m   1238\u001b[0m     \u001b[38;5;28;01mtry\u001b[39;00m:\n\u001b[0;32m-> 1239\u001b[0m         \u001b[38;5;28mself\u001b[39m\u001b[38;5;241m.\u001b[39mfp \u001b[38;5;241m=\u001b[39m \u001b[43mio\u001b[49m\u001b[38;5;241;43m.\u001b[39;49m\u001b[43mopen\u001b[49m\u001b[43m(\u001b[49m\u001b[43mfile\u001b[49m\u001b[43m,\u001b[49m\u001b[43m \u001b[49m\u001b[43mfilemode\u001b[49m\u001b[43m)\u001b[49m\n\u001b[1;32m   1240\u001b[0m     \u001b[38;5;28;01mexcept\u001b[39;00m \u001b[38;5;167;01mOSError\u001b[39;00m:\n\u001b[1;32m   1241\u001b[0m         \u001b[38;5;28;01mif\u001b[39;00m filemode \u001b[38;5;129;01min\u001b[39;00m modeDict:\n",
            "\u001b[0;31mFileNotFoundError\u001b[0m: [Errno 2] No such file or directory: './data/gender-based-violence-tweet-classification.zip'"
          ]
        }
      ],
      "source": [
        "import zipfile\n",
        "\n",
        "# Create the 'data' directory if it doesn't exist\n",
        "!mkdir -p data\n",
        "\n",
        "def unzip_files(zip_filepath, extract_dir):\n",
        "    with zipfile.ZipFile(zip_filepath, 'r') as zip_ref:\n",
        "        zip_ref.extractall(extract_dir)\n",
        "\n",
        "# Unzip the files into the 'data' folder\n",
        "unzip_files(\"../data/emotions.zip\", \"../data/\")\n",
        "unzip_files(\"../data/gender-based-violence-tweet-classification.zip\", \"../data/\")\n",
        "unzip_files(\"../data/hate-speech-and-offensive-language-dataset.zip\", \"../data/\")\n"
      ]
    },
    {
      "cell_type": "markdown",
      "metadata": {
        "id": "eqGekc6ok56e"
      },
      "source": [
        "## 1.Load Dataset"
      ]
    },
    {
      "cell_type": "code",
      "execution_count": 11,
      "metadata": {
        "id": "jBJYu9GTkMZ8"
      },
      "outputs": [],
      "source": [
        "emotion_df=pd.read_csv(\"../data/text.csv\")\n",
        "violence_df=pd.read_csv(\"../data/Train.csv\")\n",
        "hate_df=pd.read_csv(\"../data/labeled_data.csv\")"
      ]
    },
    {
      "cell_type": "markdown",
      "metadata": {
        "id": "7jaRZFL8mUeJ"
      },
      "source": [
        "## 1. Data Cleaning (Common for All Datasets)\n",
        "\n",
        "\n",
        "* Remove unwated columns\n",
        "\n",
        "* Rename columns\n",
        "\n",
        "* check for null values\n",
        "\n"
      ]
    },
    {
      "cell_type": "code",
      "execution_count": 12,
      "metadata": {
        "id": "ND20k3a9lJQh"
      },
      "outputs": [],
      "source": [
        "\n",
        "def clean_dataset(emotion_df, violence_df, hate_df):\n",
        "    \"\"\"Cleans the datasets by removing unwanted columns.\n",
        "\n",
        "    Args:\n",
        "        emotion_df: Pandas DataFrame containing emotion data.\n",
        "        violence_df: Pandas DataFrame containing violence data.\n",
        "        hate_df: Pandas DataFrame containing hate speech data.\n",
        "\n",
        "    Returns:\n",
        "        A tuple containing the cleaned DataFrames: (emotion_df, violence_df, hate_df).\n",
        "    \"\"\"\n",
        "    # remove unwanted columns\n",
        "    emotion_df.drop(columns=[\"Unnamed: 0\"], inplace=True)\n",
        "    violence_df.drop(columns=[\"Tweet_ID\"], inplace=True)\n",
        "    new_hate_df = hate_df[[\"tweet\", \"class\"]]  # pick only tweet and class\n",
        "\n",
        "    # rename the column\n",
        "\n",
        "    violence_df.rename(columns={\"tweet\":\"text\",\"type\":\"label\"},inplace=True)\n",
        "    new_hate_df.rename(columns={\"tweet\":\"text\",\"class\":\"label\"},inplace=True)\n",
        "\n",
        "    return emotion_df, violence_df, new_hate_df\n",
        "\n",
        "\n",
        "# Clean the datasets\n",
        "emotion_df, violence_df, hate_df = clean_dataset(emotion_df, violence_df, hate_df)"
      ]
    },
    {
      "cell_type": "code",
      "execution_count": 13,
      "metadata": {
        "colab": {
          "base_uri": "https://localhost:8080/"
        },
        "id": "B2Ty4KubmwiZ",
        "outputId": "56d085b5-73f5-4352-a50c-b334d8a6732c"
      },
      "outputs": [
        {
          "data": {
            "text/plain": [
              "(Index(['text', 'label'], dtype='object'),\n",
              " Index(['text', 'label'], dtype='object'),\n",
              " Index(['text', 'label'], dtype='object'))"
            ]
          },
          "execution_count": 13,
          "metadata": {},
          "output_type": "execute_result"
        }
      ],
      "source": [
        "emotion_df.columns,violence_df.columns,hate_df.columns"
      ]
    },
    {
      "cell_type": "markdown",
      "metadata": {
        "id": "VfUzJaMGobX5"
      },
      "source": [
        "### 2. Exploratory Data Analysis\n",
        "\n",
        "* check for class distributions\n",
        "\n",
        "\n"
      ]
    },
    {
      "cell_type": "code",
      "execution_count": 14,
      "metadata": {
        "colab": {
          "base_uri": "https://localhost:8080/"
        },
        "id": "BlrkmMpsnkjs",
        "outputId": "2f790124-d2ba-4355-fbae-67c990136eb4"
      },
      "outputs": [
        {
          "data": {
            "text/plain": [
              "(text     0\n",
              " label    0\n",
              " dtype: int64,\n",
              " text     0\n",
              " label    0\n",
              " dtype: int64,\n",
              " text     0\n",
              " label    0\n",
              " dtype: int64)"
            ]
          },
          "execution_count": 14,
          "metadata": {},
          "output_type": "execute_result"
        }
      ],
      "source": [
        "emotion_df.isnull().sum(),violence_df.isnull().sum(),hate_df.isnull().sum()"
      ]
    },
    {
      "cell_type": "code",
      "execution_count": 15,
      "metadata": {
        "colab": {
          "base_uri": "https://localhost:8080/",
          "height": 304
        },
        "id": "td1e3rdJohNI",
        "outputId": "837da82b-eb3f-4caa-8c42-3b187c222421"
      },
      "outputs": [
        {
          "data": {
            "text/plain": [
              "label\n",
              "1    141067\n",
              "0    121187\n",
              "3     57317\n",
              "4     47712\n",
              "2     34554\n",
              "5     14972\n",
              "Name: count, dtype: int64"
            ]
          },
          "execution_count": 15,
          "metadata": {},
          "output_type": "execute_result"
        }
      ],
      "source": [
        "emotion_df['label'].value_counts()"
      ]
    },
    {
      "cell_type": "code",
      "execution_count": 16,
      "metadata": {
        "colab": {
          "base_uri": "https://localhost:8080/",
          "height": 272
        },
        "id": "mSRxeMQxpsSl",
        "outputId": "9a1696f9-68f6-4166-e9c4-06aa8642b639"
      },
      "outputs": [
        {
          "data": {
            "text/plain": [
              "label\n",
              "sexual_violence                 32648\n",
              "Physical_violence                5946\n",
              "emotional_violence                651\n",
              "economic_violence                 217\n",
              "Harmful_Traditional_practice      188\n",
              "Name: count, dtype: int64"
            ]
          },
          "execution_count": 16,
          "metadata": {},
          "output_type": "execute_result"
        }
      ],
      "source": [
        "violence_df['label'].value_counts()"
      ]
    },
    {
      "cell_type": "code",
      "execution_count": 17,
      "metadata": {
        "colab": {
          "base_uri": "https://localhost:8080/",
          "height": 210
        },
        "id": "47dhfYtVqWJ5",
        "outputId": "4151ff22-a950-4d75-fd7a-b1c72a80e90c"
      },
      "outputs": [
        {
          "data": {
            "text/plain": [
              "label\n",
              "1    19190\n",
              "2     4163\n",
              "0     1430\n",
              "Name: count, dtype: int64"
            ]
          },
          "execution_count": 17,
          "metadata": {},
          "output_type": "execute_result"
        }
      ],
      "source": [
        "hate_df['label'].value_counts()"
      ]
    },
    {
      "cell_type": "code",
      "execution_count": 18,
      "metadata": {
        "id": "8yOEjqLhqgLP"
      },
      "outputs": [],
      "source": [
        "import pandas as pd\n",
        "import numpy as np\n",
        "\n",
        "def balance_datasets(emotion_df, violence_df, hate_df):\n",
        "    # Balance Emotion Data\n",
        "    e_df = pd.DataFrame()\n",
        "    for i in range(6):\n",
        "        subset = emotion_df[emotion_df['label'] == i].sample(n=2000, random_state=42)\n",
        "        e_df = pd.concat([e_df, subset])\n",
        "    emotion_df = e_df.copy()\n",
        "\n",
        "    # Balance Violence Data\n",
        "    sexual_violence = violence_df[violence_df['label'] == 'sexual_violence'].sample(n=4998, random_state=42)\n",
        "    violence_df = violence_df[violence_df['label'] != 'sexual_violence']\n",
        "    violence_df = pd.concat([sexual_violence, violence_df], axis=0)\n",
        "\n",
        "    # Balance Hate Speech Data\n",
        "    offensive_speech = hate_df[hate_df['label'] == 1].sample(n=6407, random_state=42)\n",
        "    hate_df = hate_df[hate_df['label'] != 1]\n",
        "    hate_df = pd.concat([offensive_speech, hate_df], axis=0)\n",
        "\n",
        "    return emotion_df, violence_df, hate_df\n",
        "\n",
        "emotion_df, violence_df, hate_df = balance_datasets(emotion_df, violence_df, hate_df)\n"
      ]
    },
    {
      "cell_type": "code",
      "execution_count": 19,
      "metadata": {
        "colab": {
          "base_uri": "https://localhost:8080/"
        },
        "id": "jymKcJlxuqPn",
        "outputId": "e848ea66-13e9-4c6e-9abb-62df0c70779d"
      },
      "outputs": [
        {
          "data": {
            "text/plain": [
              "((12000, 2), (12000, 2), (12000, 2))"
            ]
          },
          "execution_count": 19,
          "metadata": {},
          "output_type": "execute_result"
        }
      ],
      "source": [
        "emotion_df.shape, violence_df.shape, hate_df.shape"
      ]
    },
    {
      "cell_type": "code",
      "execution_count": 20,
      "metadata": {
        "id": "zQzQsYesuszj"
      },
      "outputs": [],
      "source": [
        "#resetting the indexes\n",
        "emotion_df.reset_index(drop = True, inplace = True)\n",
        "violence_df.reset_index(drop = True, inplace = True)\n",
        "hate_df.reset_index(drop = True, inplace = True)"
      ]
    },
    {
      "cell_type": "code",
      "execution_count": 21,
      "metadata": {
        "colab": {
          "base_uri": "https://localhost:8080/",
          "height": 206
        },
        "id": "GLEjyOqfvF0b",
        "outputId": "f454b92f-77c4-4e40-e23d-92f8c69da6aa"
      },
      "outputs": [
        {
          "data": {
            "text/html": [
              "<div>\n",
              "<style scoped>\n",
              "    .dataframe tbody tr th:only-of-type {\n",
              "        vertical-align: middle;\n",
              "    }\n",
              "\n",
              "    .dataframe tbody tr th {\n",
              "        vertical-align: top;\n",
              "    }\n",
              "\n",
              "    .dataframe thead th {\n",
              "        text-align: right;\n",
              "    }\n",
              "</style>\n",
              "<table border=\"1\" class=\"dataframe\">\n",
              "  <thead>\n",
              "    <tr style=\"text-align: right;\">\n",
              "      <th></th>\n",
              "      <th>text</th>\n",
              "      <th>label</th>\n",
              "    </tr>\n",
              "  </thead>\n",
              "  <tbody>\n",
              "    <tr>\n",
              "      <th>0</th>\n",
              "      <td>ive learned to surround myself with women who ...</td>\n",
              "      <td>0</td>\n",
              "    </tr>\n",
              "    <tr>\n",
              "      <th>1</th>\n",
              "      <td>i already feel crappy because of this and you ...</td>\n",
              "      <td>0</td>\n",
              "    </tr>\n",
              "    <tr>\n",
              "      <th>2</th>\n",
              "      <td>i feel like i have lost mourned and moved past...</td>\n",
              "      <td>0</td>\n",
              "    </tr>\n",
              "    <tr>\n",
              "      <th>3</th>\n",
              "      <td>i could write a whole lot more about why im fe...</td>\n",
              "      <td>0</td>\n",
              "    </tr>\n",
              "    <tr>\n",
              "      <th>4</th>\n",
              "      <td>i always seem to feel inadequate</td>\n",
              "      <td>0</td>\n",
              "    </tr>\n",
              "  </tbody>\n",
              "</table>\n",
              "</div>"
            ],
            "text/plain": [
              "                                                text  label\n",
              "0  ive learned to surround myself with women who ...      0\n",
              "1  i already feel crappy because of this and you ...      0\n",
              "2  i feel like i have lost mourned and moved past...      0\n",
              "3  i could write a whole lot more about why im fe...      0\n",
              "4                   i always seem to feel inadequate      0"
            ]
          },
          "execution_count": 21,
          "metadata": {},
          "output_type": "execute_result"
        }
      ],
      "source": [
        "emotion_df.head()"
      ]
    },
    {
      "cell_type": "code",
      "execution_count": 22,
      "metadata": {
        "colab": {
          "base_uri": "https://localhost:8080/",
          "height": 206
        },
        "id": "-ESAskRfvHCK",
        "outputId": "a01d333d-786d-4067-f901-32d3b263d6d7"
      },
      "outputs": [
        {
          "data": {
            "text/html": [
              "<div>\n",
              "<style scoped>\n",
              "    .dataframe tbody tr th:only-of-type {\n",
              "        vertical-align: middle;\n",
              "    }\n",
              "\n",
              "    .dataframe tbody tr th {\n",
              "        vertical-align: top;\n",
              "    }\n",
              "\n",
              "    .dataframe thead th {\n",
              "        text-align: right;\n",
              "    }\n",
              "</style>\n",
              "<table border=\"1\" class=\"dataframe\">\n",
              "  <thead>\n",
              "    <tr style=\"text-align: right;\">\n",
              "      <th></th>\n",
              "      <th>text</th>\n",
              "      <th>label</th>\n",
              "    </tr>\n",
              "  </thead>\n",
              "  <tbody>\n",
              "    <tr>\n",
              "      <th>0</th>\n",
              "      <td>My cousin was raped by this guy Matthew. She w...</td>\n",
              "      <td>sexual_violence</td>\n",
              "    </tr>\n",
              "    <tr>\n",
              "      <th>1</th>\n",
              "      <td>HAHAHAHAHAHAHHA I DIDN’T SEE IT THE FIRST TIME...</td>\n",
              "      <td>sexual_violence</td>\n",
              "    </tr>\n",
              "    <tr>\n",
              "      <th>2</th>\n",
              "      <td>I remember how I almost got raped like it was ...</td>\n",
              "      <td>sexual_violence</td>\n",
              "    </tr>\n",
              "    <tr>\n",
              "      <th>3</th>\n",
              "      <td>He raped me 👈</td>\n",
              "      <td>sexual_violence</td>\n",
              "    </tr>\n",
              "    <tr>\n",
              "      <th>4</th>\n",
              "      <td>A woman raped by A male: psychological horror,...</td>\n",
              "      <td>sexual_violence</td>\n",
              "    </tr>\n",
              "  </tbody>\n",
              "</table>\n",
              "</div>"
            ],
            "text/plain": [
              "                                                text            label\n",
              "0  My cousin was raped by this guy Matthew. She w...  sexual_violence\n",
              "1  HAHAHAHAHAHAHHA I DIDN’T SEE IT THE FIRST TIME...  sexual_violence\n",
              "2  I remember how I almost got raped like it was ...  sexual_violence\n",
              "3                                      He raped me 👈  sexual_violence\n",
              "4  A woman raped by A male: psychological horror,...  sexual_violence"
            ]
          },
          "execution_count": 22,
          "metadata": {},
          "output_type": "execute_result"
        }
      ],
      "source": [
        "violence_df.head()"
      ]
    },
    {
      "cell_type": "code",
      "execution_count": 23,
      "metadata": {
        "colab": {
          "base_uri": "https://localhost:8080/",
          "height": 206
        },
        "id": "nZUOn2G6vLbU",
        "outputId": "6f8dde26-eb6a-4d6e-c3be-2df4496263a7"
      },
      "outputs": [
        {
          "data": {
            "text/html": [
              "<div>\n",
              "<style scoped>\n",
              "    .dataframe tbody tr th:only-of-type {\n",
              "        vertical-align: middle;\n",
              "    }\n",
              "\n",
              "    .dataframe tbody tr th {\n",
              "        vertical-align: top;\n",
              "    }\n",
              "\n",
              "    .dataframe thead th {\n",
              "        text-align: right;\n",
              "    }\n",
              "</style>\n",
              "<table border=\"1\" class=\"dataframe\">\n",
              "  <thead>\n",
              "    <tr style=\"text-align: right;\">\n",
              "      <th></th>\n",
              "      <th>text</th>\n",
              "      <th>label</th>\n",
              "    </tr>\n",
              "  </thead>\n",
              "  <tbody>\n",
              "    <tr>\n",
              "      <th>0</th>\n",
              "      <td>Why is it everytime I go to cracker barrel the...</td>\n",
              "      <td>1</td>\n",
              "    </tr>\n",
              "    <tr>\n",
              "      <th>1</th>\n",
              "      <td>Run that nigga, you don't want that nigga, but...</td>\n",
              "      <td>1</td>\n",
              "    </tr>\n",
              "    <tr>\n",
              "      <th>2</th>\n",
              "      <td>I need a girl from Jamaica I can't fuck with t...</td>\n",
              "      <td>1</td>\n",
              "    </tr>\n",
              "    <tr>\n",
              "      <th>3</th>\n",
              "      <td>RT @ShadowBeatz_Inc: I know you have me blocke...</td>\n",
              "      <td>1</td>\n",
              "    </tr>\n",
              "    <tr>\n",
              "      <th>4</th>\n",
              "      <td>Put ya hands up if you a Grade A bitch</td>\n",
              "      <td>1</td>\n",
              "    </tr>\n",
              "  </tbody>\n",
              "</table>\n",
              "</div>"
            ],
            "text/plain": [
              "                                                text  label\n",
              "0  Why is it everytime I go to cracker barrel the...      1\n",
              "1  Run that nigga, you don't want that nigga, but...      1\n",
              "2  I need a girl from Jamaica I can't fuck with t...      1\n",
              "3  RT @ShadowBeatz_Inc: I know you have me blocke...      1\n",
              "4             Put ya hands up if you a Grade A bitch      1"
            ]
          },
          "execution_count": 23,
          "metadata": {},
          "output_type": "execute_result"
        }
      ],
      "source": [
        "hate_df.head()"
      ]
    },
    {
      "cell_type": "markdown",
      "metadata": {},
      "source": [
        "## 3. Text Preprocessing\n",
        "* label encoding\n",
        "* Clean text - remove URLs, special characters, etc.\n",
        "* Tokenization\n",
        "* Padding sequences"
      ]
    },
    {
      "cell_type": "code",
      "execution_count": 29,
      "metadata": {},
      "outputs": [],
      "source": [
        "# for violence_df convert str to labels\n",
        "label_encoder = LabelEncoder()\n",
        "violence_df['label'] = label_encoder.fit_transform(violence_df['label'])"
      ]
    },
    {
      "cell_type": "code",
      "execution_count": 36,
      "metadata": {},
      "outputs": [
        {
          "name": "stderr",
          "output_type": "stream",
          "text": [
            "[nltk_data] Downloading package stopwords to\n",
            "[nltk_data]     /Users/magesh/nltk_data...\n",
            "[nltk_data]   Package stopwords is already up-to-date!\n",
            "[nltk_data] Downloading package punkt to /Users/magesh/nltk_data...\n",
            "[nltk_data]   Package punkt is already up-to-date!\n",
            "[nltk_data] Downloading package wordnet to /Users/magesh/nltk_data...\n",
            "[nltk_data]   Package wordnet is already up-to-date!\n",
            "[nltk_data] Downloading package punkt_tab to\n",
            "[nltk_data]     /Users/magesh/nltk_data...\n",
            "[nltk_data]   Unzipping tokenizers/punkt_tab.zip.\n"
          ]
        },
        {
          "data": {
            "text/plain": [
              "True"
            ]
          },
          "execution_count": 36,
          "metadata": {},
          "output_type": "execute_result"
        }
      ],
      "source": [
        "nltk.download('stopwords')\n",
        "nltk.download('punkt')\n",
        "nltk.download('wordnet')\n",
        "nltk.download('punkt_tab')"
      ]
    },
    {
      "cell_type": "code",
      "execution_count": 37,
      "metadata": {},
      "outputs": [],
      "source": [
        "# Download required NLTK resources\n",
        "\n",
        "from nltk.stem import WordNetLemmatizer\n",
        "from nltk.tokenize import word_tokenize\n",
        "import re\n",
        "import string\n",
        "\n",
        "# Initialize lemmatizer\n",
        "lemmatizer = WordNetLemmatizer()\n",
        "# Get English stopwords\n",
        "stop_words = set(stopwords.words('english'))\n",
        "\n",
        "def clean_text(text):\n",
        "    \"\"\"\n",
        "    Clean and preprocess text data:\n",
        "    - Convert to lowercase\n",
        "    - Remove URLs, mentions, special characters\n",
        "    - Remove punctuation\n",
        "    - Remove stopwords\n",
        "    - Lemmatize words\n",
        "    \n",
        "    Args:\n",
        "        text: String containing text to be cleaned\n",
        "        \n",
        "    Returns:\n",
        "        Cleaned text string\n",
        "    \"\"\"\n",
        "    if isinstance(text, str):\n",
        "        # Convert to lowercase\n",
        "        text = text.lower()\n",
        "        \n",
        "        # Remove URLs\n",
        "        text = re.sub(r'http\\S+|www\\S+', '', text)\n",
        "        \n",
        "        # Remove mentions (@username)\n",
        "        text = re.sub(r'@\\w+', '', text)\n",
        "        \n",
        "        # Remove hashtags\n",
        "        text = re.sub(r'#\\w+', '', text)\n",
        "        \n",
        "        # Remove numbers\n",
        "        text = re.sub(r'\\d+', '', text)\n",
        "        \n",
        "        # Remove punctuation\n",
        "        text = text.translate(str.maketrans('', '', string.punctuation))\n",
        "        \n",
        "        # Tokenize text\n",
        "        tokens = word_tokenize(text)\n",
        "        \n",
        "        # Remove stopwords and lemmatize\n",
        "        tokens = [lemmatizer.lemmatize(word) for word in tokens if word not in stop_words]\n",
        "        \n",
        "        # Join tokens back into string\n",
        "        return ' '.join(tokens)\n",
        "    return ''"
      ]
    },
    {
      "cell_type": "code",
      "execution_count": 38,
      "metadata": {},
      "outputs": [],
      "source": [
        "emotion_df['text'] = emotion_df['text'].apply(clean_text)\n",
        "violence_df['text'] = violence_df['text'].apply(clean_text)\n",
        "hate_df['text'] = hate_df['text'].apply(clean_text)"
      ]
    },
    {
      "cell_type": "markdown",
      "metadata": {},
      "source": [
        "## 4. Tokenization and Sequence Padding\n",
        "\n",
        "* Create a tokenizer\n",
        "* Convert text to sequences\n",
        "* Pad sequences to uniform length"
      ]
    },
    {
      "cell_type": "code",
      "execution_count": 40,
      "metadata": {},
      "outputs": [],
      "source": [
        "# Set parameters for tokenization and padding\n",
        "MAX_NUM_WORDS = 10000  # Maximum number of words to keep in the vocabulary\n",
        "MAX_SEQUENCE_LENGTH = 100  # Maximum length of all sequences\n",
        "EMBEDDING_DIM = 100  # Dimensionality of word embeddings"
      ]
    },
    {
      "cell_type": "code",
      "execution_count": 41,
      "metadata": {},
      "outputs": [],
      "source": [
        "def tokenize_and_pad(texts, max_words=MAX_NUM_WORDS, max_length=MAX_SEQUENCE_LENGTH):\n",
        "    \"\"\"\n",
        "    Tokenize text data and pad sequences to a uniform length.\n",
        "    \n",
        "    Args:\n",
        "        texts: List of text strings to tokenize and pad\n",
        "        max_words: Maximum number of words to keep in the vocabulary\n",
        "        max_length: Maximum length of all sequences\n",
        "        \n",
        "    Returns:\n",
        "        Tuple containing (padded_sequences, tokenizer)\n",
        "    \"\"\"\n",
        "    # Create a tokenizer\n",
        "    tokenizer = Tokenizer(num_words=max_words)\n",
        "    \n",
        "    # Fit the tokenizer on the texts\n",
        "    tokenizer.fit_on_texts(texts)\n",
        "    \n",
        "    # Convert texts to sequences\n",
        "    sequences = tokenizer.texts_to_sequences(texts)\n",
        "    \n",
        "    # Pad sequences to a uniform length\n",
        "    padded_sequences = pad_sequences(sequences, maxlen=max_length)\n",
        "    \n",
        "    # Get the word index\n",
        "    word_index = tokenizer.word_index\n",
        "    print(f\"Found {len(word_index)} unique tokens.\")\n",
        "    \n",
        "    return padded_sequences, tokenizer, word_index"
      ]
    },
    {
      "cell_type": "code",
      "execution_count": 42,
      "metadata": {},
      "outputs": [
        {
          "name": "stdout",
          "output_type": "stream",
          "text": [
            "Found 11776 unique tokens.\n",
            "Found 19249 unique tokens.\n",
            "Found 13228 unique tokens.\n"
          ]
        }
      ],
      "source": [
        "# Process each dataset\n",
        "emotion_sequences, emotion_tokenizer, emotion_word_index = tokenize_and_pad(emotion_df['text'])\n",
        "violence_sequences, violence_tokenizer, violence_word_index = tokenize_and_pad(violence_df['text'])\n",
        "hate_sequences, hate_tokenizer, hate_word_index = tokenize_and_pad(hate_df['text'])"
      ]
    },
    {
      "cell_type": "code",
      "execution_count": 43,
      "metadata": {},
      "outputs": [
        {
          "name": "stdout",
          "output_type": "stream",
          "text": [
            "Emotion sequences shape: (12000, 100)\n",
            "Violence sequences shape: (12000, 100)\n",
            "Hate sequences shape: (12000, 100)\n"
          ]
        }
      ],
      "source": [
        "# Check the shape of the padded sequences\n",
        "print(f\"Emotion sequences shape: {emotion_sequences.shape}\")\n",
        "print(f\"Violence sequences shape: {violence_sequences.shape}\")\n",
        "print(f\"Hate sequences shape: {hate_sequences.shape}\")"
      ]
    },
    {
      "cell_type": "code",
      "execution_count": 44,
      "metadata": {},
      "outputs": [
        {
          "name": "stdout",
          "output_type": "stream",
          "text": [
            "Original text:\n",
            "ive learned surround woman lift leave feeling nurtured rather drained\n",
            "\n",
            "Tokenized sequence (first 10 tokens):\n",
            "[0 0 0 0 0 0 0 0 0 0]\n",
            "\n",
            "Sample words from vocabulary:\n",
            "feel: 1\n",
            "feeling: 2\n",
            "like: 3\n",
            "im: 4\n",
            "really: 5\n",
            "time: 6\n",
            "know: 7\n",
            "little: 8\n",
            "get: 9\n",
            "people: 10\n"
          ]
        }
      ],
      "source": [
        "# Examine a sample sequence\n",
        "print(\"Original text:\")\n",
        "print(emotion_df['text'][0])\n",
        "print(\"\\nTokenized sequence (first 10 tokens):\")\n",
        "print(emotion_sequences[0][:10])\n",
        "\n",
        "# Display a few words from the vocabulary\n",
        "word_dict = list(emotion_word_index.items())\n",
        "print(\"\\nSample words from vocabulary:\")\n",
        "for word, index in sorted(word_dict[:10], key=lambda x: x[1]):\n",
        "    print(f\"{word}: {index}\")"
      ]
    },
    {
      "cell_type": "markdown",
      "metadata": {},
      "source": [
        "### Save Tokenizers for Later Use\n",
        "\n",
        "It's a good practice to save your tokenizers for later use in inference or deployment."
      ]
    },
    {
      "cell_type": "code",
      "execution_count": 45,
      "metadata": {},
      "outputs": [
        {
          "name": "stdout",
          "output_type": "stream",
          "text": [
            "Tokenizers saved successfully.\n"
          ]
        }
      ],
      "source": [
        "import pickle\n",
        "import os\n",
        "\n",
        "# Create a directory for saving tokenizers if it doesn't exist\n",
        "os.makedirs('../models/tokenizers', exist_ok=True)\n",
        "\n",
        "# Save the tokenizers\n",
        "with open('../models/tokenizers/emotion_tokenizer.pickle', 'wb') as handle:\n",
        "    pickle.dump(emotion_tokenizer, handle, protocol=pickle.HIGHEST_PROTOCOL)\n",
        "    \n",
        "with open('../models/tokenizers/violence_tokenizer.pickle', 'wb') as handle:\n",
        "    pickle.dump(violence_tokenizer, handle, protocol=pickle.HIGHEST_PROTOCOL)\n",
        "    \n",
        "with open('../models/tokenizers/hate_tokenizer.pickle', 'wb') as handle:\n",
        "    pickle.dump(hate_tokenizer, handle, protocol=pickle.HIGHEST_PROTOCOL)\n",
        "    \n",
        "print(\"Tokenizers saved successfully.\")"
      ]
    },
    {
      "cell_type": "markdown",
      "metadata": {},
      "source": [
        "## 5. Data Preparation for Training\n",
        "\n",
        "* Split data into training and validation sets\n",
        "* Prepare labels (one-hot encoding if needed)"
      ]
    },
    {
      "cell_type": "code",
      "execution_count": 46,
      "metadata": {},
      "outputs": [],
      "source": [
        "from sklearn.model_selection import train_test_split\n",
        "\n",
        "# Function to split data into train and validation sets\n",
        "def prepare_train_val_data(sequences, labels, test_size=0.2, random_state=42):\n",
        "    \"\"\"\n",
        "    Split sequences and labels into training and validation sets.\n",
        "    \n",
        "    Args:\n",
        "        sequences: Padded sequences\n",
        "        labels: Corresponding labels\n",
        "        test_size: Proportion of data to use for validation\n",
        "        random_state: Random seed for reproducibility\n",
        "        \n",
        "    Returns:\n",
        "        Tuple containing (X_train, X_val, y_train, y_val)\n",
        "    \"\"\"\n",
        "    return train_test_split(sequences, labels, test_size=test_size, random_state=random_state)\n",
        "\n",
        "# Split each dataset\n",
        "X_emotion_train, X_emotion_val, y_emotion_train, y_emotion_val = prepare_train_val_data(\n",
        "    emotion_sequences, emotion_df['label'].values\n",
        ")\n",
        "\n",
        "X_violence_train, X_violence_val, y_violence_train, y_violence_val = prepare_train_val_data(\n",
        "    violence_sequences, violence_df['label'].values\n",
        ")\n",
        "\n",
        "X_hate_train, X_hate_val, y_hate_train, y_hate_val = prepare_train_val_data(\n",
        "    hate_sequences, hate_df['label'].values\n",
        ")"
      ]
    },
    {
      "cell_type": "code",
      "execution_count": 47,
      "metadata": {},
      "outputs": [
        {
          "name": "stdout",
          "output_type": "stream",
          "text": [
            "Number of emotion classes: 6\n",
            "Number of violence classes: 5\n",
            "Number of hate classes: 3\n"
          ]
        }
      ],
      "source": [
        "# One-hot encode labels for multi-class classification\n",
        "from tensorflow.keras.utils import to_categorical\n",
        "\n",
        "# Number of classes in each task\n",
        "num_emotion_classes = len(np.unique(emotion_df['label']))\n",
        "num_violence_classes = len(np.unique(violence_df['label']))\n",
        "num_hate_classes = len(np.unique(hate_df['label']))\n",
        "\n",
        "print(f\"Number of emotion classes: {num_emotion_classes}\")\n",
        "print(f\"Number of violence classes: {num_violence_classes}\")\n",
        "print(f\"Number of hate classes: {num_hate_classes}\")\n",
        "\n",
        "# Convert labels to one-hot encoding\n",
        "y_emotion_train_categorical = to_categorical(y_emotion_train, num_classes=num_emotion_classes)\n",
        "y_emotion_val_categorical = to_categorical(y_emotion_val, num_classes=num_emotion_classes)\n",
        "\n",
        "y_violence_train_categorical = to_categorical(y_violence_train, num_classes=num_violence_classes)\n",
        "y_violence_val_categorical = to_categorical(y_violence_val, num_classes=num_violence_classes)\n",
        "\n",
        "y_hate_train_categorical = to_categorical(y_hate_train, num_classes=num_hate_classes)\n",
        "y_hate_val_categorical = to_categorical(y_hate_val, num_classes=num_hate_classes)"
      ]
    },
    {
      "cell_type": "code",
      "execution_count": null,
      "metadata": {},
      "outputs": [],
      "source": []
    },
    {
      "cell_type": "markdown",
      "metadata": {},
      "source": [
        "## 6. Build Multi-Task LSTM Model\n",
        "\n",
        "Now we'll build a multi-task learning model with:\n",
        "- A shared embedding layer\n",
        "- Shared LSTM layers for text feature extraction\n",
        "- Task-specific dense output layers for each task (emotions, violence, hate)"
      ]
    },
    {
      "cell_type": "code",
      "execution_count": 48,
      "metadata": {},
      "outputs": [
        {
          "name": "stdout",
          "output_type": "stream",
          "text": [
            "Total vocabulary size: 19250\n"
          ]
        }
      ],
      "source": [
        "from tensorflow.keras.models import Model\n",
        "from tensorflow.keras.layers import Input, Embedding, LSTM, Dense, Dropout, Bidirectional\n",
        "from tensorflow.keras.optimizers import Adam\n",
        "\n",
        "# Define the input shape\n",
        "input_shape = MAX_SEQUENCE_LENGTH\n",
        "\n",
        "# Get the total vocabulary size (using the largest of the three tokenizers)\n",
        "vocab_size = max(len(emotion_word_index), len(violence_word_index), len(hate_word_index)) + 1\n",
        "print(f\"Total vocabulary size: {vocab_size}\")"
      ]
    },
    {
      "cell_type": "code",
      "execution_count": 49,
      "metadata": {},
      "outputs": [],
      "source": [
        "def build_multi_task_model(vocab_size, embedding_dim, input_shape, \n",
        "                          emotion_classes, violence_classes, hate_classes):\n",
        "    \"\"\"\n",
        "    Build a multi-task LSTM model for text classification.\n",
        "    \n",
        "    Args:\n",
        "        vocab_size: Size of the vocabulary\n",
        "        embedding_dim: Dimensionality of word embeddings\n",
        "        input_shape: Maximum sequence length\n",
        "        emotion_classes: Number of emotion classes\n",
        "        violence_classes: Number of violence classes\n",
        "        hate_classes: Number of hate classes\n",
        "    \n",
        "    Returns:\n",
        "        Compiled Keras model\n",
        "    \"\"\"\n",
        "    # Input layer\n",
        "    inputs = Input(shape=(input_shape,))\n",
        "    \n",
        "    # Shared embedding layer\n",
        "    embedding = Embedding(input_dim=vocab_size, \n",
        "                         output_dim=embedding_dim, \n",
        "                         input_length=input_shape)(inputs)\n",
        "    \n",
        "    # Shared Bidirectional LSTM layers\n",
        "    lstm_1 = Bidirectional(LSTM(128, return_sequences=True))(embedding)\n",
        "    lstm_2 = Bidirectional(LSTM(64))(lstm_1)\n",
        "    \n",
        "    # Common dropout layer\n",
        "    shared_dropout = Dropout(0.5)(lstm_2)\n",
        "    \n",
        "    # Task-specific layers for emotion detection\n",
        "    emotion_dense = Dense(64, activation='relu')(shared_dropout)\n",
        "    emotion_dropout = Dropout(0.3)(emotion_dense)\n",
        "    emotion_output = Dense(emotion_classes, activation='softmax', name='emotion_output')(emotion_dropout)\n",
        "    \n",
        "    # Task-specific layers for violence detection\n",
        "    violence_dense = Dense(64, activation='relu')(shared_dropout)\n",
        "    violence_dropout = Dropout(0.3)(violence_dense)\n",
        "    violence_output = Dense(violence_classes, activation='softmax', name='violence_output')(violence_dropout)\n",
        "    \n",
        "    # Task-specific layers for hate speech detection\n",
        "    hate_dense = Dense(64, activation='relu')(shared_dropout)\n",
        "    hate_dropout = Dropout(0.3)(hate_dense)\n",
        "    hate_output = Dense(hate_classes, activation='softmax', name='hate_output')(hate_dropout)\n",
        "    \n",
        "    # Create the model with one input and three outputs\n",
        "    model = Model(inputs=inputs, outputs=[emotion_output, violence_output, hate_output])\n",
        "    \n",
        "    # Compile the model with task-specific losses and metrics\n",
        "    model.compile(\n",
        "        optimizer=Adam(learning_rate=0.001),\n",
        "        loss={\n",
        "            'emotion_output': 'categorical_crossentropy',\n",
        "            'violence_output': 'categorical_crossentropy',\n",
        "            'hate_output': 'categorical_crossentropy'\n",
        "        },\n",
        "        metrics={\n",
        "            'emotion_output': ['accuracy'],\n",
        "            'violence_output': ['accuracy'],\n",
        "            'hate_output': ['accuracy']\n",
        "        },\n",
        "        loss_weights={\n",
        "            'emotion_output': 1.0,\n",
        "            'violence_output': 1.0,\n",
        "            'hate_output': 1.0\n",
        "        }\n",
        "    )\n",
        "    \n",
        "    return model"
      ]
    },
    {
      "cell_type": "code",
      "execution_count": 50,
      "metadata": {},
      "outputs": [
        {
          "data": {
            "text/html": [
              "<pre style=\"white-space:pre;overflow-x:auto;line-height:normal;font-family:Menlo,'DejaVu Sans Mono',consolas,'Courier New',monospace\"><span style=\"font-weight: bold\">Model: \"functional\"</span>\n",
              "</pre>\n"
            ],
            "text/plain": [
              "\u001b[1mModel: \"functional\"\u001b[0m\n"
            ]
          },
          "metadata": {},
          "output_type": "display_data"
        },
        {
          "data": {
            "text/html": [
              "<pre style=\"white-space:pre;overflow-x:auto;line-height:normal;font-family:Menlo,'DejaVu Sans Mono',consolas,'Courier New',monospace\">┏━━━━━━━━━━━━━━━━━━━━━┳━━━━━━━━━━━━━━━━━━━┳━━━━━━━━━━━━┳━━━━━━━━━━━━━━━━━━━┓\n",
              "┃<span style=\"font-weight: bold\"> Layer (type)        </span>┃<span style=\"font-weight: bold\"> Output Shape      </span>┃<span style=\"font-weight: bold\">    Param # </span>┃<span style=\"font-weight: bold\"> Connected to      </span>┃\n",
              "┡━━━━━━━━━━━━━━━━━━━━━╇━━━━━━━━━━━━━━━━━━━╇━━━━━━━━━━━━╇━━━━━━━━━━━━━━━━━━━┩\n",
              "│ input_layer         │ (<span style=\"color: #00d7ff; text-decoration-color: #00d7ff\">None</span>, <span style=\"color: #00af00; text-decoration-color: #00af00\">100</span>)       │          <span style=\"color: #00af00; text-decoration-color: #00af00\">0</span> │ -                 │\n",
              "│ (<span style=\"color: #0087ff; text-decoration-color: #0087ff\">InputLayer</span>)        │                   │            │                   │\n",
              "├─────────────────────┼───────────────────┼────────────┼───────────────────┤\n",
              "│ embedding           │ (<span style=\"color: #00d7ff; text-decoration-color: #00d7ff\">None</span>, <span style=\"color: #00af00; text-decoration-color: #00af00\">100</span>, <span style=\"color: #00af00; text-decoration-color: #00af00\">100</span>)  │  <span style=\"color: #00af00; text-decoration-color: #00af00\">1,925,000</span> │ input_layer[<span style=\"color: #00af00; text-decoration-color: #00af00\">0</span>][<span style=\"color: #00af00; text-decoration-color: #00af00\">0</span>] │\n",
              "│ (<span style=\"color: #0087ff; text-decoration-color: #0087ff\">Embedding</span>)         │                   │            │                   │\n",
              "├─────────────────────┼───────────────────┼────────────┼───────────────────┤\n",
              "│ bidirectional       │ (<span style=\"color: #00d7ff; text-decoration-color: #00d7ff\">None</span>, <span style=\"color: #00af00; text-decoration-color: #00af00\">100</span>, <span style=\"color: #00af00; text-decoration-color: #00af00\">256</span>)  │    <span style=\"color: #00af00; text-decoration-color: #00af00\">234,496</span> │ embedding[<span style=\"color: #00af00; text-decoration-color: #00af00\">0</span>][<span style=\"color: #00af00; text-decoration-color: #00af00\">0</span>]   │\n",
              "│ (<span style=\"color: #0087ff; text-decoration-color: #0087ff\">Bidirectional</span>)     │                   │            │                   │\n",
              "├─────────────────────┼───────────────────┼────────────┼───────────────────┤\n",
              "│ bidirectional_1     │ (<span style=\"color: #00d7ff; text-decoration-color: #00d7ff\">None</span>, <span style=\"color: #00af00; text-decoration-color: #00af00\">128</span>)       │    <span style=\"color: #00af00; text-decoration-color: #00af00\">164,352</span> │ bidirectional[<span style=\"color: #00af00; text-decoration-color: #00af00\">0</span>]… │\n",
              "│ (<span style=\"color: #0087ff; text-decoration-color: #0087ff\">Bidirectional</span>)     │                   │            │                   │\n",
              "├─────────────────────┼───────────────────┼────────────┼───────────────────┤\n",
              "│ dropout (<span style=\"color: #0087ff; text-decoration-color: #0087ff\">Dropout</span>)   │ (<span style=\"color: #00d7ff; text-decoration-color: #00d7ff\">None</span>, <span style=\"color: #00af00; text-decoration-color: #00af00\">128</span>)       │          <span style=\"color: #00af00; text-decoration-color: #00af00\">0</span> │ bidirectional_1[<span style=\"color: #00af00; text-decoration-color: #00af00\">…</span> │\n",
              "├─────────────────────┼───────────────────┼────────────┼───────────────────┤\n",
              "│ dense (<span style=\"color: #0087ff; text-decoration-color: #0087ff\">Dense</span>)       │ (<span style=\"color: #00d7ff; text-decoration-color: #00d7ff\">None</span>, <span style=\"color: #00af00; text-decoration-color: #00af00\">64</span>)        │      <span style=\"color: #00af00; text-decoration-color: #00af00\">8,256</span> │ dropout[<span style=\"color: #00af00; text-decoration-color: #00af00\">0</span>][<span style=\"color: #00af00; text-decoration-color: #00af00\">0</span>]     │\n",
              "├─────────────────────┼───────────────────┼────────────┼───────────────────┤\n",
              "│ dense_1 (<span style=\"color: #0087ff; text-decoration-color: #0087ff\">Dense</span>)     │ (<span style=\"color: #00d7ff; text-decoration-color: #00d7ff\">None</span>, <span style=\"color: #00af00; text-decoration-color: #00af00\">64</span>)        │      <span style=\"color: #00af00; text-decoration-color: #00af00\">8,256</span> │ dropout[<span style=\"color: #00af00; text-decoration-color: #00af00\">0</span>][<span style=\"color: #00af00; text-decoration-color: #00af00\">0</span>]     │\n",
              "├─────────────────────┼───────────────────┼────────────┼───────────────────┤\n",
              "│ dense_2 (<span style=\"color: #0087ff; text-decoration-color: #0087ff\">Dense</span>)     │ (<span style=\"color: #00d7ff; text-decoration-color: #00d7ff\">None</span>, <span style=\"color: #00af00; text-decoration-color: #00af00\">64</span>)        │      <span style=\"color: #00af00; text-decoration-color: #00af00\">8,256</span> │ dropout[<span style=\"color: #00af00; text-decoration-color: #00af00\">0</span>][<span style=\"color: #00af00; text-decoration-color: #00af00\">0</span>]     │\n",
              "├─────────────────────┼───────────────────┼────────────┼───────────────────┤\n",
              "│ dropout_1 (<span style=\"color: #0087ff; text-decoration-color: #0087ff\">Dropout</span>) │ (<span style=\"color: #00d7ff; text-decoration-color: #00d7ff\">None</span>, <span style=\"color: #00af00; text-decoration-color: #00af00\">64</span>)        │          <span style=\"color: #00af00; text-decoration-color: #00af00\">0</span> │ dense[<span style=\"color: #00af00; text-decoration-color: #00af00\">0</span>][<span style=\"color: #00af00; text-decoration-color: #00af00\">0</span>]       │\n",
              "├─────────────────────┼───────────────────┼────────────┼───────────────────┤\n",
              "│ dropout_2 (<span style=\"color: #0087ff; text-decoration-color: #0087ff\">Dropout</span>) │ (<span style=\"color: #00d7ff; text-decoration-color: #00d7ff\">None</span>, <span style=\"color: #00af00; text-decoration-color: #00af00\">64</span>)        │          <span style=\"color: #00af00; text-decoration-color: #00af00\">0</span> │ dense_1[<span style=\"color: #00af00; text-decoration-color: #00af00\">0</span>][<span style=\"color: #00af00; text-decoration-color: #00af00\">0</span>]     │\n",
              "├─────────────────────┼───────────────────┼────────────┼───────────────────┤\n",
              "│ dropout_3 (<span style=\"color: #0087ff; text-decoration-color: #0087ff\">Dropout</span>) │ (<span style=\"color: #00d7ff; text-decoration-color: #00d7ff\">None</span>, <span style=\"color: #00af00; text-decoration-color: #00af00\">64</span>)        │          <span style=\"color: #00af00; text-decoration-color: #00af00\">0</span> │ dense_2[<span style=\"color: #00af00; text-decoration-color: #00af00\">0</span>][<span style=\"color: #00af00; text-decoration-color: #00af00\">0</span>]     │\n",
              "├─────────────────────┼───────────────────┼────────────┼───────────────────┤\n",
              "│ emotion_output      │ (<span style=\"color: #00d7ff; text-decoration-color: #00d7ff\">None</span>, <span style=\"color: #00af00; text-decoration-color: #00af00\">6</span>)         │        <span style=\"color: #00af00; text-decoration-color: #00af00\">390</span> │ dropout_1[<span style=\"color: #00af00; text-decoration-color: #00af00\">0</span>][<span style=\"color: #00af00; text-decoration-color: #00af00\">0</span>]   │\n",
              "│ (<span style=\"color: #0087ff; text-decoration-color: #0087ff\">Dense</span>)             │                   │            │                   │\n",
              "├─────────────────────┼───────────────────┼────────────┼───────────────────┤\n",
              "│ violence_output     │ (<span style=\"color: #00d7ff; text-decoration-color: #00d7ff\">None</span>, <span style=\"color: #00af00; text-decoration-color: #00af00\">5</span>)         │        <span style=\"color: #00af00; text-decoration-color: #00af00\">325</span> │ dropout_2[<span style=\"color: #00af00; text-decoration-color: #00af00\">0</span>][<span style=\"color: #00af00; text-decoration-color: #00af00\">0</span>]   │\n",
              "│ (<span style=\"color: #0087ff; text-decoration-color: #0087ff\">Dense</span>)             │                   │            │                   │\n",
              "├─────────────────────┼───────────────────┼────────────┼───────────────────┤\n",
              "│ hate_output (<span style=\"color: #0087ff; text-decoration-color: #0087ff\">Dense</span>) │ (<span style=\"color: #00d7ff; text-decoration-color: #00d7ff\">None</span>, <span style=\"color: #00af00; text-decoration-color: #00af00\">3</span>)         │        <span style=\"color: #00af00; text-decoration-color: #00af00\">195</span> │ dropout_3[<span style=\"color: #00af00; text-decoration-color: #00af00\">0</span>][<span style=\"color: #00af00; text-decoration-color: #00af00\">0</span>]   │\n",
              "└─────────────────────┴───────────────────┴────────────┴───────────────────┘\n",
              "</pre>\n"
            ],
            "text/plain": [
              "┏━━━━━━━━━━━━━━━━━━━━━┳━━━━━━━━━━━━━━━━━━━┳━━━━━━━━━━━━┳━━━━━━━━━━━━━━━━━━━┓\n",
              "┃\u001b[1m \u001b[0m\u001b[1mLayer (type)       \u001b[0m\u001b[1m \u001b[0m┃\u001b[1m \u001b[0m\u001b[1mOutput Shape     \u001b[0m\u001b[1m \u001b[0m┃\u001b[1m \u001b[0m\u001b[1m   Param #\u001b[0m\u001b[1m \u001b[0m┃\u001b[1m \u001b[0m\u001b[1mConnected to     \u001b[0m\u001b[1m \u001b[0m┃\n",
              "┡━━━━━━━━━━━━━━━━━━━━━╇━━━━━━━━━━━━━━━━━━━╇━━━━━━━━━━━━╇━━━━━━━━━━━━━━━━━━━┩\n",
              "│ input_layer         │ (\u001b[38;5;45mNone\u001b[0m, \u001b[38;5;34m100\u001b[0m)       │          \u001b[38;5;34m0\u001b[0m │ -                 │\n",
              "│ (\u001b[38;5;33mInputLayer\u001b[0m)        │                   │            │                   │\n",
              "├─────────────────────┼───────────────────┼────────────┼───────────────────┤\n",
              "│ embedding           │ (\u001b[38;5;45mNone\u001b[0m, \u001b[38;5;34m100\u001b[0m, \u001b[38;5;34m100\u001b[0m)  │  \u001b[38;5;34m1,925,000\u001b[0m │ input_layer[\u001b[38;5;34m0\u001b[0m][\u001b[38;5;34m0\u001b[0m] │\n",
              "│ (\u001b[38;5;33mEmbedding\u001b[0m)         │                   │            │                   │\n",
              "├─────────────────────┼───────────────────┼────────────┼───────────────────┤\n",
              "│ bidirectional       │ (\u001b[38;5;45mNone\u001b[0m, \u001b[38;5;34m100\u001b[0m, \u001b[38;5;34m256\u001b[0m)  │    \u001b[38;5;34m234,496\u001b[0m │ embedding[\u001b[38;5;34m0\u001b[0m][\u001b[38;5;34m0\u001b[0m]   │\n",
              "│ (\u001b[38;5;33mBidirectional\u001b[0m)     │                   │            │                   │\n",
              "├─────────────────────┼───────────────────┼────────────┼───────────────────┤\n",
              "│ bidirectional_1     │ (\u001b[38;5;45mNone\u001b[0m, \u001b[38;5;34m128\u001b[0m)       │    \u001b[38;5;34m164,352\u001b[0m │ bidirectional[\u001b[38;5;34m0\u001b[0m]… │\n",
              "│ (\u001b[38;5;33mBidirectional\u001b[0m)     │                   │            │                   │\n",
              "├─────────────────────┼───────────────────┼────────────┼───────────────────┤\n",
              "│ dropout (\u001b[38;5;33mDropout\u001b[0m)   │ (\u001b[38;5;45mNone\u001b[0m, \u001b[38;5;34m128\u001b[0m)       │          \u001b[38;5;34m0\u001b[0m │ bidirectional_1[\u001b[38;5;34m…\u001b[0m │\n",
              "├─────────────────────┼───────────────────┼────────────┼───────────────────┤\n",
              "│ dense (\u001b[38;5;33mDense\u001b[0m)       │ (\u001b[38;5;45mNone\u001b[0m, \u001b[38;5;34m64\u001b[0m)        │      \u001b[38;5;34m8,256\u001b[0m │ dropout[\u001b[38;5;34m0\u001b[0m][\u001b[38;5;34m0\u001b[0m]     │\n",
              "├─────────────────────┼───────────────────┼────────────┼───────────────────┤\n",
              "│ dense_1 (\u001b[38;5;33mDense\u001b[0m)     │ (\u001b[38;5;45mNone\u001b[0m, \u001b[38;5;34m64\u001b[0m)        │      \u001b[38;5;34m8,256\u001b[0m │ dropout[\u001b[38;5;34m0\u001b[0m][\u001b[38;5;34m0\u001b[0m]     │\n",
              "├─────────────────────┼───────────────────┼────────────┼───────────────────┤\n",
              "│ dense_2 (\u001b[38;5;33mDense\u001b[0m)     │ (\u001b[38;5;45mNone\u001b[0m, \u001b[38;5;34m64\u001b[0m)        │      \u001b[38;5;34m8,256\u001b[0m │ dropout[\u001b[38;5;34m0\u001b[0m][\u001b[38;5;34m0\u001b[0m]     │\n",
              "├─────────────────────┼───────────────────┼────────────┼───────────────────┤\n",
              "│ dropout_1 (\u001b[38;5;33mDropout\u001b[0m) │ (\u001b[38;5;45mNone\u001b[0m, \u001b[38;5;34m64\u001b[0m)        │          \u001b[38;5;34m0\u001b[0m │ dense[\u001b[38;5;34m0\u001b[0m][\u001b[38;5;34m0\u001b[0m]       │\n",
              "├─────────────────────┼───────────────────┼────────────┼───────────────────┤\n",
              "│ dropout_2 (\u001b[38;5;33mDropout\u001b[0m) │ (\u001b[38;5;45mNone\u001b[0m, \u001b[38;5;34m64\u001b[0m)        │          \u001b[38;5;34m0\u001b[0m │ dense_1[\u001b[38;5;34m0\u001b[0m][\u001b[38;5;34m0\u001b[0m]     │\n",
              "├─────────────────────┼───────────────────┼────────────┼───────────────────┤\n",
              "│ dropout_3 (\u001b[38;5;33mDropout\u001b[0m) │ (\u001b[38;5;45mNone\u001b[0m, \u001b[38;5;34m64\u001b[0m)        │          \u001b[38;5;34m0\u001b[0m │ dense_2[\u001b[38;5;34m0\u001b[0m][\u001b[38;5;34m0\u001b[0m]     │\n",
              "├─────────────────────┼───────────────────┼────────────┼───────────────────┤\n",
              "│ emotion_output      │ (\u001b[38;5;45mNone\u001b[0m, \u001b[38;5;34m6\u001b[0m)         │        \u001b[38;5;34m390\u001b[0m │ dropout_1[\u001b[38;5;34m0\u001b[0m][\u001b[38;5;34m0\u001b[0m]   │\n",
              "│ (\u001b[38;5;33mDense\u001b[0m)             │                   │            │                   │\n",
              "├─────────────────────┼───────────────────┼────────────┼───────────────────┤\n",
              "│ violence_output     │ (\u001b[38;5;45mNone\u001b[0m, \u001b[38;5;34m5\u001b[0m)         │        \u001b[38;5;34m325\u001b[0m │ dropout_2[\u001b[38;5;34m0\u001b[0m][\u001b[38;5;34m0\u001b[0m]   │\n",
              "│ (\u001b[38;5;33mDense\u001b[0m)             │                   │            │                   │\n",
              "├─────────────────────┼───────────────────┼────────────┼───────────────────┤\n",
              "│ hate_output (\u001b[38;5;33mDense\u001b[0m) │ (\u001b[38;5;45mNone\u001b[0m, \u001b[38;5;34m3\u001b[0m)         │        \u001b[38;5;34m195\u001b[0m │ dropout_3[\u001b[38;5;34m0\u001b[0m][\u001b[38;5;34m0\u001b[0m]   │\n",
              "└─────────────────────┴───────────────────┴────────────┴───────────────────┘\n"
            ]
          },
          "metadata": {},
          "output_type": "display_data"
        },
        {
          "data": {
            "text/html": [
              "<pre style=\"white-space:pre;overflow-x:auto;line-height:normal;font-family:Menlo,'DejaVu Sans Mono',consolas,'Courier New',monospace\"><span style=\"font-weight: bold\"> Total params: </span><span style=\"color: #00af00; text-decoration-color: #00af00\">2,349,526</span> (8.96 MB)\n",
              "</pre>\n"
            ],
            "text/plain": [
              "\u001b[1m Total params: \u001b[0m\u001b[38;5;34m2,349,526\u001b[0m (8.96 MB)\n"
            ]
          },
          "metadata": {},
          "output_type": "display_data"
        },
        {
          "data": {
            "text/html": [
              "<pre style=\"white-space:pre;overflow-x:auto;line-height:normal;font-family:Menlo,'DejaVu Sans Mono',consolas,'Courier New',monospace\"><span style=\"font-weight: bold\"> Trainable params: </span><span style=\"color: #00af00; text-decoration-color: #00af00\">2,349,526</span> (8.96 MB)\n",
              "</pre>\n"
            ],
            "text/plain": [
              "\u001b[1m Trainable params: \u001b[0m\u001b[38;5;34m2,349,526\u001b[0m (8.96 MB)\n"
            ]
          },
          "metadata": {},
          "output_type": "display_data"
        },
        {
          "data": {
            "text/html": [
              "<pre style=\"white-space:pre;overflow-x:auto;line-height:normal;font-family:Menlo,'DejaVu Sans Mono',consolas,'Courier New',monospace\"><span style=\"font-weight: bold\"> Non-trainable params: </span><span style=\"color: #00af00; text-decoration-color: #00af00\">0</span> (0.00 B)\n",
              "</pre>\n"
            ],
            "text/plain": [
              "\u001b[1m Non-trainable params: \u001b[0m\u001b[38;5;34m0\u001b[0m (0.00 B)\n"
            ]
          },
          "metadata": {},
          "output_type": "display_data"
        }
      ],
      "source": [
        "# Build the multi-task model\n",
        "model = build_multi_task_model(\n",
        "    vocab_size=vocab_size,\n",
        "    embedding_dim=EMBEDDING_DIM,\n",
        "    input_shape=MAX_SEQUENCE_LENGTH,\n",
        "    emotion_classes=num_emotion_classes,\n",
        "    violence_classes=num_violence_classes,\n",
        "    hate_classes=num_hate_classes\n",
        ")\n",
        "\n",
        "# Display the model summary\n",
        "model.summary()"
      ]
    },
    {
      "cell_type": "markdown",
      "metadata": {},
      "source": [
        "## 7. Data Generator for Multi-Task Learning\n",
        "\n",
        "We need to adjust the data for multi-task learning since our datasets may have different sizes."
      ]
    },
    {
      "cell_type": "code",
      "execution_count": 51,
      "metadata": {},
      "outputs": [
        {
          "name": "stdout",
          "output_type": "stream",
          "text": [
            "Training data size: 9600\n",
            "Validation data size: 2400\n"
          ]
        }
      ],
      "source": [
        "# Since we have balanced our datasets, we can use them directly for training\n",
        "# Note: In a production scenario, we might need a custom data generator for different-sized datasets\n",
        "\n",
        "# For simplicity, we'll make sure all validation sets have the same size by truncating longer ones\n",
        "min_val_size = min(len(X_emotion_val), len(X_violence_val), len(X_hate_val))\n",
        "\n",
        "X_emotion_val_adjusted = X_emotion_val[:min_val_size]\n",
        "y_emotion_val_adjusted = y_emotion_val_categorical[:min_val_size]\n",
        "\n",
        "X_violence_val_adjusted = X_violence_val[:min_val_size]\n",
        "y_violence_val_adjusted = y_violence_val_categorical[:min_val_size]\n",
        "\n",
        "X_hate_val_adjusted = X_hate_val[:min_val_size]\n",
        "y_hate_val_adjusted = y_hate_val_categorical[:min_val_size]\n",
        "\n",
        "# Training data preparation\n",
        "min_train_size = min(len(X_emotion_train), len(X_violence_train), len(X_hate_train))\n",
        "\n",
        "X_emotion_train_adjusted = X_emotion_train[:min_train_size]\n",
        "y_emotion_train_adjusted = y_emotion_train_categorical[:min_train_size]\n",
        "\n",
        "X_violence_train_adjusted = X_violence_train[:min_train_size]\n",
        "y_violence_train_adjusted = y_violence_train_categorical[:min_train_size]\n",
        "\n",
        "X_hate_train_adjusted = X_hate_train[:min_train_size]\n",
        "y_hate_train_adjusted = y_hate_train_categorical[:min_train_size]\n",
        "\n",
        "print(f\"Training data size: {min_train_size}\")\n",
        "print(f\"Validation data size: {min_val_size}\")"
      ]
    },
    {
      "cell_type": "markdown",
      "metadata": {},
      "source": [
        "## 8. Model Training\n",
        "\n",
        "Train the multi-task model using our prepared data. We'll use callbacks for early stopping and model checkpointing."
      ]
    },
    {
      "cell_type": "code",
      "execution_count": 52,
      "metadata": {},
      "outputs": [],
      "source": [
        "from tensorflow.keras.callbacks import EarlyStopping, ModelCheckpoint, ReduceLROnPlateau\n",
        "import os\n",
        "\n",
        "# Create directory for model checkpoints\n",
        "os.makedirs('../models/checkpoints', exist_ok=True)\n",
        "\n",
        "# Define callbacks\n",
        "callbacks = [\n",
        "    EarlyStopping(monitor='val_loss', patience=5, restore_best_weights=True),\n",
        "    ModelCheckpoint(\n",
        "        filepath='../models/checkpoints/multi_task_model_{epoch:02d}_{val_loss:.2f}.h5',\n",
        "        monitor='val_loss',\n",
        "        save_best_only=True,\n",
        "        save_weights_only=False\n",
        "    ),\n",
        "    ReduceLROnPlateau(monitor='val_loss', factor=0.2, patience=3, min_lr=0.0001)\n",
        "]"
      ]
    },
    {
      "cell_type": "code",
      "execution_count": 53,
      "metadata": {},
      "outputs": [
        {
          "name": "stdout",
          "output_type": "stream",
          "text": [
            "Epoch 1/10\n",
            "\u001b[1m300/300\u001b[0m \u001b[32m━━━━━━━━━━━━━━━━━━━━\u001b[0m\u001b[37m\u001b[0m \u001b[1m0s\u001b[0m 184ms/step - emotion_output_accuracy: 0.1944 - emotion_output_loss: 1.7692 - hate_output_accuracy: 0.5287 - hate_output_loss: 0.9569 - loss: 3.8288 - violence_output_accuracy: 0.4905 - violence_output_loss: 1.1026"
          ]
        },
        {
          "name": "stderr",
          "output_type": "stream",
          "text": [
            "WARNING:absl:You are saving your model as an HDF5 file via `model.save()` or `keras.saving.save_model(model)`. This file format is considered legacy. We recommend using instead the native Keras format, e.g. `model.save('my_model.keras')` or `keras.saving.save_model(model, 'my_model.keras')`. \n"
          ]
        },
        {
          "name": "stdout",
          "output_type": "stream",
          "text": [
            "\u001b[1m300/300\u001b[0m \u001b[32m━━━━━━━━━━━━━━━━━━━━\u001b[0m\u001b[37m\u001b[0m \u001b[1m61s\u001b[0m 196ms/step - emotion_output_accuracy: 0.1946 - emotion_output_loss: 1.7688 - hate_output_accuracy: 0.5290 - hate_output_loss: 0.9565 - loss: 3.8274 - violence_output_accuracy: 0.4908 - violence_output_loss: 1.1022 - val_emotion_output_accuracy: 0.4913 - val_emotion_output_loss: 1.1551 - val_hate_output_accuracy: 0.8163 - val_hate_output_loss: 0.4925 - val_loss: 2.3474 - val_violence_output_accuracy: 0.7908 - val_violence_output_loss: 0.6998 - learning_rate: 0.0010\n",
            "Epoch 2/10\n",
            "\u001b[1m300/300\u001b[0m \u001b[32m━━━━━━━━━━━━━━━━━━━━\u001b[0m\u001b[37m\u001b[0m \u001b[1m0s\u001b[0m 191ms/step - emotion_output_accuracy: 0.5521 - emotion_output_loss: 0.9898 - hate_output_accuracy: 0.8053 - hate_output_loss: 0.4783 - loss: 2.1366 - violence_output_accuracy: 0.7985 - violence_output_loss: 0.6685"
          ]
        },
        {
          "name": "stderr",
          "output_type": "stream",
          "text": [
            "WARNING:absl:You are saving your model as an HDF5 file via `model.save()` or `keras.saving.save_model(model)`. This file format is considered legacy. We recommend using instead the native Keras format, e.g. `model.save('my_model.keras')` or `keras.saving.save_model(model, 'my_model.keras')`. \n"
          ]
        },
        {
          "name": "stdout",
          "output_type": "stream",
          "text": [
            "\u001b[1m300/300\u001b[0m \u001b[32m━━━━━━━━━━━━━━━━━━━━\u001b[0m\u001b[37m\u001b[0m \u001b[1m62s\u001b[0m 206ms/step - emotion_output_accuracy: 0.5524 - emotion_output_loss: 0.9893 - hate_output_accuracy: 0.8053 - hate_output_loss: 0.4783 - loss: 2.1360 - violence_output_accuracy: 0.7985 - violence_output_loss: 0.6685 - val_emotion_output_accuracy: 0.7912 - val_emotion_output_loss: 0.5823 - val_hate_output_accuracy: 0.8267 - val_hate_output_loss: 0.4417 - val_loss: 1.6313 - val_violence_output_accuracy: 0.7987 - val_violence_output_loss: 0.6073 - learning_rate: 0.0010\n",
            "Epoch 3/10\n",
            "\u001b[1m300/300\u001b[0m \u001b[32m━━━━━━━━━━━━━━━━━━━━\u001b[0m\u001b[37m\u001b[0m \u001b[1m0s\u001b[0m 200ms/step - emotion_output_accuracy: 0.8306 - emotion_output_loss: 0.4940 - hate_output_accuracy: 0.8288 - hate_output_loss: 0.4177 - loss: 1.4720 - violence_output_accuracy: 0.8150 - violence_output_loss: 0.5602"
          ]
        },
        {
          "name": "stderr",
          "output_type": "stream",
          "text": [
            "WARNING:absl:You are saving your model as an HDF5 file via `model.save()` or `keras.saving.save_model(model)`. This file format is considered legacy. We recommend using instead the native Keras format, e.g. `model.save('my_model.keras')` or `keras.saving.save_model(model, 'my_model.keras')`. \n"
          ]
        },
        {
          "name": "stdout",
          "output_type": "stream",
          "text": [
            "\u001b[1m300/300\u001b[0m \u001b[32m━━━━━━━━━━━━━━━━━━━━\u001b[0m\u001b[37m\u001b[0m \u001b[1m66s\u001b[0m 220ms/step - emotion_output_accuracy: 0.8306 - emotion_output_loss: 0.4939 - hate_output_accuracy: 0.8288 - hate_output_loss: 0.4178 - loss: 1.4718 - violence_output_accuracy: 0.8151 - violence_output_loss: 0.5602 - val_emotion_output_accuracy: 0.8758 - val_emotion_output_loss: 0.4028 - val_hate_output_accuracy: 0.8354 - val_hate_output_loss: 0.4203 - val_loss: 1.4090 - val_violence_output_accuracy: 0.8067 - val_violence_output_loss: 0.5858 - learning_rate: 0.0010\n",
            "Epoch 4/10\n",
            "\u001b[1m300/300\u001b[0m \u001b[32m━━━━━━━━━━━━━━━━━━━━\u001b[0m\u001b[37m\u001b[0m \u001b[1m0s\u001b[0m 192ms/step - emotion_output_accuracy: 0.9163 - emotion_output_loss: 0.2780 - hate_output_accuracy: 0.8354 - hate_output_loss: 0.3873 - loss: 1.1686 - violence_output_accuracy: 0.8288 - violence_output_loss: 0.5033"
          ]
        },
        {
          "name": "stderr",
          "output_type": "stream",
          "text": [
            "WARNING:absl:You are saving your model as an HDF5 file via `model.save()` or `keras.saving.save_model(model)`. This file format is considered legacy. We recommend using instead the native Keras format, e.g. `model.save('my_model.keras')` or `keras.saving.save_model(model, 'my_model.keras')`. \n"
          ]
        },
        {
          "name": "stdout",
          "output_type": "stream",
          "text": [
            "\u001b[1m300/300\u001b[0m \u001b[32m━━━━━━━━━━━━━━━━━━━━\u001b[0m\u001b[37m\u001b[0m \u001b[1m63s\u001b[0m 210ms/step - emotion_output_accuracy: 0.9163 - emotion_output_loss: 0.2780 - hate_output_accuracy: 0.8354 - hate_output_loss: 0.3873 - loss: 1.1686 - violence_output_accuracy: 0.8288 - violence_output_loss: 0.5034 - val_emotion_output_accuracy: 0.8929 - val_emotion_output_loss: 0.3679 - val_hate_output_accuracy: 0.8354 - val_hate_output_loss: 0.4193 - val_loss: 1.3527 - val_violence_output_accuracy: 0.8108 - val_violence_output_loss: 0.5654 - learning_rate: 0.0010\n",
            "Epoch 5/10\n",
            "\u001b[1m300/300\u001b[0m \u001b[32m━━━━━━━━━━━━━━━━━━━━\u001b[0m\u001b[37m\u001b[0m \u001b[1m64s\u001b[0m 212ms/step - emotion_output_accuracy: 0.9512 - emotion_output_loss: 0.1783 - hate_output_accuracy: 0.8314 - hate_output_loss: 0.3824 - loss: 1.0489 - violence_output_accuracy: 0.8314 - violence_output_loss: 0.4881 - val_emotion_output_accuracy: 0.9054 - val_emotion_output_loss: 0.3742 - val_hate_output_accuracy: 0.8396 - val_hate_output_loss: 0.4288 - val_loss: 1.3876 - val_violence_output_accuracy: 0.8062 - val_violence_output_loss: 0.5846 - learning_rate: 0.0010\n",
            "Epoch 6/10\n",
            "\u001b[1m300/300\u001b[0m \u001b[32m━━━━━━━━━━━━━━━━━━━━\u001b[0m\u001b[37m\u001b[0m \u001b[1m66s\u001b[0m 220ms/step - emotion_output_accuracy: 0.9623 - emotion_output_loss: 0.1434 - hate_output_accuracy: 0.8472 - hate_output_loss: 0.3578 - loss: 0.9524 - violence_output_accuracy: 0.8501 - violence_output_loss: 0.4511 - val_emotion_output_accuracy: 0.8900 - val_emotion_output_loss: 0.3959 - val_hate_output_accuracy: 0.8338 - val_hate_output_loss: 0.4479 - val_loss: 1.4554 - val_violence_output_accuracy: 0.8067 - val_violence_output_loss: 0.6116 - learning_rate: 0.0010\n",
            "Epoch 7/10\n",
            "\u001b[1m300/300\u001b[0m \u001b[32m━━━━━━━━━━━━━━━━━━━━\u001b[0m\u001b[37m\u001b[0m \u001b[1m72s\u001b[0m 240ms/step - emotion_output_accuracy: 0.9673 - emotion_output_loss: 0.1084 - hate_output_accuracy: 0.8492 - hate_output_loss: 0.3516 - loss: 0.8882 - violence_output_accuracy: 0.8606 - violence_output_loss: 0.4282 - val_emotion_output_accuracy: 0.8925 - val_emotion_output_loss: 0.4749 - val_hate_output_accuracy: 0.8300 - val_hate_output_loss: 0.4891 - val_loss: 1.6429 - val_violence_output_accuracy: 0.7962 - val_violence_output_loss: 0.6789 - learning_rate: 0.0010\n",
            "Epoch 8/10\n",
            "\u001b[1m300/300\u001b[0m \u001b[32m━━━━━━━━━━━━━━━━━━━━\u001b[0m\u001b[37m\u001b[0m \u001b[1m71s\u001b[0m 237ms/step - emotion_output_accuracy: 0.9722 - emotion_output_loss: 0.0974 - hate_output_accuracy: 0.8437 - hate_output_loss: 0.3421 - loss: 0.8326 - violence_output_accuracy: 0.8704 - violence_output_loss: 0.3931 - val_emotion_output_accuracy: 0.9004 - val_emotion_output_loss: 0.4388 - val_hate_output_accuracy: 0.8296 - val_hate_output_loss: 0.4726 - val_loss: 1.5731 - val_violence_output_accuracy: 0.7962 - val_violence_output_loss: 0.6617 - learning_rate: 2.0000e-04\n",
            "Epoch 9/10\n",
            "\u001b[1m300/300\u001b[0m \u001b[32m━━━━━━━━━━━━━━━━━━━━\u001b[0m\u001b[37m\u001b[0m \u001b[1m72s\u001b[0m 241ms/step - emotion_output_accuracy: 0.9819 - emotion_output_loss: 0.0649 - hate_output_accuracy: 0.8543 - hate_output_loss: 0.3236 - loss: 0.7711 - violence_output_accuracy: 0.8764 - violence_output_loss: 0.3826 - val_emotion_output_accuracy: 0.9013 - val_emotion_output_loss: 0.4764 - val_hate_output_accuracy: 0.8267 - val_hate_output_loss: 0.5052 - val_loss: 1.7030 - val_violence_output_accuracy: 0.7958 - val_violence_output_loss: 0.7213 - learning_rate: 2.0000e-04\n"
          ]
        }
      ],
      "source": [
        "# Train the model\n",
        "BATCH_SIZE = 32\n",
        "EPOCHS = 10\n",
        "\n",
        "history = model.fit(\n",
        "    X_emotion_train_adjusted,\n",
        "    {\n",
        "        'emotion_output': y_emotion_train_adjusted,\n",
        "        'violence_output': y_violence_train_adjusted,\n",
        "        'hate_output': y_hate_train_adjusted\n",
        "    },\n",
        "    validation_data=(\n",
        "        X_emotion_val_adjusted,\n",
        "        {\n",
        "            'emotion_output': y_emotion_val_adjusted,\n",
        "            'violence_output': y_violence_val_adjusted,\n",
        "            'hate_output': y_hate_val_adjusted\n",
        "        }\n",
        "    ),\n",
        "    epochs=EPOCHS,\n",
        "    batch_size=BATCH_SIZE,\n",
        "    callbacks=callbacks\n",
        ")"
      ]
    },
    {
      "cell_type": "markdown",
      "metadata": {},
      "source": [
        "## 9. Evaluate Model Performance\n",
        "\n",
        "Let's visualize the training history and evaluate the model's performance on the validation sets."
      ]
    },
    {
      "cell_type": "code",
      "execution_count": 54,
      "metadata": {},
      "outputs": [
        {
          "data": {
            "image/png": "[encoded data removed]",
            "text/plain": [
              "<Figure size 1800x1000 with 6 Axes>"
            ]
          },
          "metadata": {},
          "output_type": "display_data"
        }
      ],
      "source": [
        "# Plot training history\n",
        "def plot_training_history(history):\n",
        "    \"\"\"Plot the training and validation accuracy and loss for each task.\"\"\"\n",
        "    # Set up the figure\n",
        "    fig, axes = plt.subplots(2, 3, figsize=(18, 10))\n",
        "    \n",
        "    # Plot emotion task\n",
        "    axes[0, 0].plot(history.history['emotion_output_accuracy'])\n",
        "    axes[0, 0].plot(history.history['val_emotion_output_accuracy'])\n",
        "    axes[0, 0].set_title('Emotion Classification Accuracy')\n",
        "    axes[0, 0].set_ylabel('Accuracy')\n",
        "    axes[0, 0].set_xlabel('Epoch')\n",
        "    axes[0, 0].legend(['Train', 'Validation'], loc='upper left')\n",
        "    \n",
        "    axes[1, 0].plot(history.history['emotion_output_loss'])\n",
        "    axes[1, 0].plot(history.history['val_emotion_output_loss'])\n",
        "    axes[1, 0].set_title('Emotion Classification Loss')\n",
        "    axes[1, 0].set_ylabel('Loss')\n",
        "    axes[1, 0].set_xlabel('Epoch')\n",
        "    axes[1, 0].legend(['Train', 'Validation'], loc='upper left')\n",
        "    \n",
        "    # Plot violence task\n",
        "    axes[0, 1].plot(history.history['violence_output_accuracy'])\n",
        "    axes[0, 1].plot(history.history['val_violence_output_accuracy'])\n",
        "    axes[0, 1].set_title('Violence Classification Accuracy')\n",
        "    axes[0, 1].set_ylabel('Accuracy')\n",
        "    axes[0, 1].set_xlabel('Epoch')\n",
        "    axes[0, 1].legend(['Train', 'Validation'], loc='upper left')\n",
        "    \n",
        "    axes[1, 1].plot(history.history['violence_output_loss'])\n",
        "    axes[1, 1].plot(history.history['val_violence_output_loss'])\n",
        "    axes[1, 1].set_title('Violence Classification Loss')\n",
        "    axes[1, 1].set_ylabel('Loss')\n",
        "    axes[1, 1].set_xlabel('Epoch')\n",
        "    axes[1, 1].legend(['Train', 'Validation'], loc='upper left')\n",
        "    \n",
        "    # Plot hate speech task\n",
        "    axes[0, 2].plot(history.history['hate_output_accuracy'])\n",
        "    axes[0, 2].plot(history.history['val_hate_output_accuracy'])\n",
        "    axes[0, 2].set_title('Hate Speech Classification Accuracy')\n",
        "    axes[0, 2].set_ylabel('Accuracy')\n",
        "    axes[0, 2].set_xlabel('Epoch')\n",
        "    axes[0, 2].legend(['Train', 'Validation'], loc='upper left')\n",
        "    \n",
        "    axes[1, 2].plot(history.history['hate_output_loss'])\n",
        "    axes[1, 2].plot(history.history['val_hate_output_loss'])\n",
        "    axes[1, 2].set_title('Hate Speech Classification Loss')\n",
        "    axes[1, 2].set_ylabel('Loss')\n",
        "    axes[1, 2].set_xlabel('Epoch')\n",
        "    axes[1, 2].legend(['Train', 'Validation'], loc='upper left')\n",
        "    \n",
        "    plt.tight_layout()\n",
        "    plt.show()\n",
        "\n",
        "# Plot the training history\n",
        "plot_training_history(history)"
      ]
    },
    {
      "cell_type": "code",
      "execution_count": 55,
      "metadata": {},
      "outputs": [
        {
          "name": "stdout",
          "output_type": "stream",
          "text": [
            "\u001b[1m75/75\u001b[0m \u001b[32m━━━━━━━━━━━━━━━━━━━━\u001b[0m\u001b[37m\u001b[0m \u001b[1m6s\u001b[0m 77ms/step - emotion_output_accuracy: 0.8943 - emotion_output_loss: 0.3632 - hate_output_accuracy: 0.8453 - hate_output_loss: 0.4064 - loss: 1.3505 - violence_output_accuracy: 0.8040 - violence_output_loss: 0.5809\n",
            "\n",
            "Evaluation Results:\n",
            "loss: 1.3527\n",
            "compile_metrics: 0.3679\n",
            "emotion_output_loss: 0.5654\n",
            "violence_output_loss: 0.4193\n",
            "hate_output_loss: 0.8929\n"
          ]
        }
      ],
      "source": [
        "# Evaluate model on validation sets\n",
        "evaluation_results = model.evaluate(\n",
        "    X_emotion_val_adjusted,\n",
        "    {\n",
        "        'emotion_output': y_emotion_val_adjusted,\n",
        "        'violence_output': y_violence_val_adjusted,\n",
        "        'hate_output': y_hate_val_adjusted\n",
        "    }\n",
        ")\n",
        "\n",
        "# Print evaluation results\n",
        "metrics_names = model.metrics_names\n",
        "print(\"\\nEvaluation Results:\")\n",
        "for i, metric in enumerate(metrics_names):\n",
        "    print(f\"{metric}: {evaluation_results[i]:.4f}\")"
      ]
    },
    {
      "cell_type": "markdown",
      "metadata": {},
      "source": [
        "## 10. Making Predictions with the Model\n",
        "\n",
        "Create a function to use our model for predicting emotions, violence, and hate speech in new text."
      ]
    },
    {
      "cell_type": "code",
      "execution_count": 59,
      "metadata": {},
      "outputs": [],
      "source": [
        "def visualize_confusion_matrices(model, X_val, y_true_dict):\n",
        "    \"\"\"\n",
        "    Generate and visualize confusion matrices for each task in the multi-task model.\n",
        "    \n",
        "    Args:\n",
        "        model: Trained multi-task model\n",
        "        X_val: Validation data input\n",
        "        y_true_dict: Dictionary containing true labels for each task\n",
        "            (keys: 'emotion', 'violence', 'hate'; values: one-hot encoded labels)\n",
        "    \"\"\"\n",
        "    # Get class labels for each task\n",
        "    emotion_classes = ['Sadness', 'Joy', 'Love', 'Anger', 'Fear', 'Surprise']\n",
        "    violence_classes = ['Harmful Traditional', 'Physical', 'Economic', 'Emotional', 'Sexual']\n",
        "    hate_classes = ['Hate Speech', 'Offensive Speech', 'Neither']\n",
        "    \n",
        "    # Make predictions\n",
        "    emotion_pred, violence_pred, hate_pred = model.predict(X_val)\n",
        "    \n",
        "    # Convert one-hot encoded true values to class indices\n",
        "    y_emotion_true = np.argmax(y_true_dict['emotion_output'], axis=1)\n",
        "    y_violence_true = np.argmax(y_true_dict['violence_output'], axis=1)\n",
        "    y_hate_true = np.argmax(y_true_dict['hate_output'], axis=1)\n",
        "    \n",
        "    # Convert predictions to class indices\n",
        "    y_emotion_pred = np.argmax(emotion_pred, axis=1)\n",
        "    y_violence_pred = np.argmax(violence_pred, axis=1)\n",
        "    y_hate_pred = np.argmax(hate_pred, axis=1)\n",
        "    \n",
        "    # Compute confusion matrices\n",
        "    emotion_cm = confusion_matrix(y_emotion_true, y_emotion_pred)\n",
        "    violence_cm = confusion_matrix(y_violence_true, y_violence_pred)\n",
        "    hate_cm = confusion_matrix(y_hate_true, y_hate_pred)\n",
        "    \n",
        "    # Create a figure for visualizing the confusion matrices\n",
        "    fig, axes = plt.subplots(1, 3, figsize=(20, 6))\n",
        "    \n",
        "    # Plot emotion confusion matrix\n",
        "    sns.heatmap(emotion_cm, annot=True, fmt='d', cmap='Blues', cbar=False, \n",
        "                xticklabels=emotion_classes, yticklabels=emotion_classes, ax=axes[0])\n",
        "    axes[0].set_title('Emotion Classification')\n",
        "    axes[0].set_ylabel('True Label')\n",
        "    axes[0].set_xlabel('Predicted Label')\n",
        "    \n",
        "    # Plot violence confusion matrix\n",
        "    sns.heatmap(violence_cm, annot=True, fmt='d', cmap='Greens', cbar=False, \n",
        "                xticklabels=violence_classes, yticklabels=violence_classes, ax=axes[1])\n",
        "    axes[1].set_title('Violence Classification')\n",
        "    axes[1].set_ylabel('True Label')\n",
        "    axes[1].set_xlabel('Predicted Label')\n",
        "    \n",
        "    # Plot hate speech confusion matrix\n",
        "    sns.heatmap(hate_cm, annot=True, fmt='d', cmap='Reds', cbar=False, \n",
        "                xticklabels=hate_classes, yticklabels=hate_classes, ax=axes[2])\n",
        "    axes[2].set_title('Hate Speech Classification')\n",
        "    axes[2].set_ylabel('True Label')\n",
        "    axes[2].set_xlabel('Predicted Label')\n",
        "    \n",
        "    plt.tight_layout()\n",
        "    plt.show()\n",
        "    \n",
        "    # Calculate and print classification metrics for each task\n",
        "    for task_name, y_true, y_pred, classes in [\n",
        "        ('Emotion', y_emotion_true, y_emotion_pred, emotion_classes),\n",
        "        ('Violence', y_violence_true, y_violence_pred, violence_classes),\n",
        "        ('Hate Speech', y_hate_true, y_hate_pred, hate_classes)\n",
        "    ]:\n",
        "        accuracy = np.mean(y_true == y_pred)\n",
        "        print(f\"\\n{task_name} Classification Metrics:\")\n",
        "        print(f\"Accuracy: {accuracy:.4f}\")\n",
        "        \n",
        "        # Per-class metrics\n",
        "        print(\"\\nPer-class metrics:\")\n",
        "        for i, class_name in enumerate(classes):\n",
        "            true_pos = np.sum((y_true == i) & (y_pred == i))\n",
        "            false_pos = np.sum((y_true != i) & (y_pred == i))\n",
        "            false_neg = np.sum((y_true == i) & (y_pred != i))\n",
        "            \n",
        "            precision = true_pos / (true_pos + false_pos) if (true_pos + false_pos) > 0 else 0\n",
        "            recall = true_pos / (true_pos + false_neg) if (true_pos + false_neg) > 0 else 0\n",
        "            f1 = 2 * precision * recall / (precision + recall) if (precision + recall) > 0 else 0\n",
        "            \n",
        "            print(f\"{class_name}: Precision={precision:.4f}, Recall={recall:.4f}, F1-score={f1:.4f}\")"
      ]
    },
    {
      "cell_type": "code",
      "execution_count": 60,
      "metadata": {},
      "outputs": [
        {
          "name": "stdout",
          "output_type": "stream",
          "text": [
            "\u001b[1m75/75\u001b[0m \u001b[32m━━━━━━━━━━━━━━━━━━━━\u001b[0m\u001b[37m\u001b[0m \u001b[1m3s\u001b[0m 42ms/step\n"
          ]
        },
        {
          "data": {
            "image/png": "[encoded data removed]",
            "text/plain": [
              "<Figure size 2000x600 with 3 Axes>"
            ]
          },
          "metadata": {},
          "output_type": "display_data"
        },
        {
          "name": "stdout",
          "output_type": "stream",
          "text": [
            "\n",
            "Emotion Classification Metrics:\n",
            "Accuracy: 0.8929\n",
            "\n",
            "Per-class metrics:\n",
            "Sadness: Precision=0.8963, Recall=0.9030, F1-score=0.8996\n",
            "Joy: Precision=0.9135, Recall=0.7934, F1-score=0.8492\n",
            "Love: Precision=0.8687, Recall=0.9730, F1-score=0.9179\n",
            "Anger: Precision=0.9098, Recall=0.9003, F1-score=0.9050\n",
            "Fear: Precision=0.8676, Recall=0.8629, F1-score=0.8652\n",
            "Surprise: Precision=0.9050, Recall=0.9270, F1-score=0.9159\n",
            "\n",
            "Violence Classification Metrics:\n",
            "Accuracy: 0.8108\n",
            "\n",
            "Per-class metrics:\n",
            "Harmful Traditional: Precision=0.0000, Recall=0.0000, F1-score=0.0000\n",
            "Physical: Precision=0.8180, Recall=0.8285, F1-score=0.8232\n",
            "Economic: Precision=0.0000, Recall=0.0000, F1-score=0.0000\n",
            "Emotional: Precision=0.0000, Recall=0.0000, F1-score=0.0000\n",
            "Sexual: Precision=0.8039, Recall=0.9542, F1-score=0.8727\n",
            "\n",
            "Hate Speech Classification Metrics:\n",
            "Accuracy: 0.8354\n",
            "\n",
            "Per-class metrics:\n",
            "Hate Speech: Precision=0.0000, Recall=0.0000, F1-score=0.0000\n",
            "Offensive Speech: Precision=0.9586, Recall=0.9233, F1-score=0.9406\n",
            "Neither: Precision=0.7002, Recall=0.9491, F1-score=0.8058\n"
          ]
        }
      ],
      "source": [
        "visualize_confusion_matrices (\n",
        "    model,\n",
        "    X_emotion_val_adjusted,\n",
        "    {\n",
        "        'emotion_output': y_emotion_val_adjusted,\n",
        "        'violence_output': y_violence_val_adjusted,\n",
        "        'hate_output': y_hate_val_adjusted\n",
        "    }\n",
        "    \n",
        ")"
      ]
    },
    {
      "cell_type": "code",
      "execution_count": 56,
      "metadata": {},
      "outputs": [],
      "source": [
        "def predict_text(text, model, tokenizer, max_length=MAX_SEQUENCE_LENGTH):\n",
        "    \"\"\"Make predictions for a given text across all three tasks.\n",
        "    \n",
        "    Args:\n",
        "        text: Input text to classify\n",
        "        model: Trained multi-task model\n",
        "        tokenizer: Tokenizer used for processing text\n",
        "        max_length: Maximum sequence length\n",
        "        \n",
        "    Returns:\n",
        "        Dictionary of predictions for each task\n",
        "    \"\"\"\n",
        "    # Clean the text using the same preprocessing function\n",
        "    cleaned_text = clean_text(text)\n",
        "    \n",
        "    # Tokenize and pad the text\n",
        "    sequence = tokenizer.texts_to_sequences([cleaned_text])\n",
        "    padded_sequence = pad_sequences(sequence, maxlen=max_length)\n",
        "    \n",
        "    # Make predictions\n",
        "    emotion_pred, violence_pred, hate_pred = model.predict(padded_sequence)\n",
        "    \n",
        "    # Get the class labels\n",
        "    emotion_classes = ['Sadness', 'Joy', 'Love', 'Anger', 'Fear', 'Surprise']\n",
        "    violence_classes = ['Harmful Traditional Practice', 'Physical Violence', \n",
        "                       'Economic Violence', 'Emotional Violence', 'Sexual Violence']\n",
        "    hate_classes = ['Hate Speech', 'Offensive Speech', 'Neither']\n",
        "    \n",
        "    # Get the predicted class indices\n",
        "    emotion_class_idx = np.argmax(emotion_pred[0])\n",
        "    violence_class_idx = np.argmax(violence_pred[0])\n",
        "    hate_class_idx = np.argmax(hate_pred[0])\n",
        "    \n",
        "    # Create a dictionary of results\n",
        "    results = {\n",
        "        'text': text,\n",
        "        'cleaned_text': cleaned_text,\n",
        "        'emotion': {\n",
        "            'label': emotion_classes[emotion_class_idx],\n",
        "            'confidence': float(emotion_pred[0][emotion_class_idx]),\n",
        "            'all_probabilities': {emotion_classes[i]: float(emotion_pred[0][i]) \n",
        "                               for i in range(len(emotion_classes))}\n",
        "        },\n",
        "        'violence': {\n",
        "            'label': violence_classes[violence_class_idx],\n",
        "            'confidence': float(violence_pred[0][violence_class_idx]),\n",
        "            'all_probabilities': {violence_classes[i]: float(violence_pred[0][i]) \n",
        "                               for i in range(len(violence_classes))}\n",
        "        },\n",
        "        'hate': {\n",
        "            'label': hate_classes[hate_class_idx],\n",
        "            'confidence': float(hate_pred[0][hate_class_idx]),\n",
        "            'all_probabilities': {hate_classes[i]: float(hate_pred[0][i]) \n",
        "                              for i in range(len(hate_classes))}\n",
        "        }\n",
        "    }\n",
        "    \n",
        "    return results"
      ]
    },
    {
      "cell_type": "code",
      "execution_count": 57,
      "metadata": {},
      "outputs": [
        {
          "name": "stdout",
          "output_type": "stream",
          "text": [
            "\u001b[1m1/1\u001b[0m \u001b[32m━━━━━━━━━━━━━━━━━━━━\u001b[0m\u001b[37m\u001b[0m \u001b[1m0s\u001b[0m 254ms/step\n",
            "\n",
            "Text: I am so happy today, everything is going well!\n",
            "Cleaned text: happy today everything going well\n",
            "Emotion: Joy (confidence: 0.60)\n",
            "Violence: Sexual Violence (confidence: 0.88)\n",
            "Hate speech: Offensive Speech (confidence: 0.99)\n",
            "--------------------------------------------------------------------------------\n",
            "\u001b[1m1/1\u001b[0m \u001b[32m━━━━━━━━━━━━━━━━━━━━\u001b[0m\u001b[37m\u001b[0m \u001b[1m0s\u001b[0m 34ms/step\n",
            "\n",
            "Text: That movie was terrifying, I couldn't sleep afterwards.\n",
            "Cleaned text: movie terrifying couldnt sleep afterwards\n",
            "Emotion: Sadness (confidence: 0.76)\n",
            "Violence: Sexual Violence (confidence: 0.83)\n",
            "Hate speech: Offensive Speech (confidence: 0.91)\n",
            "--------------------------------------------------------------------------------\n",
            "\u001b[1m1/1\u001b[0m \u001b[32m━━━━━━━━━━━━━━━━━━━━\u001b[0m\u001b[37m\u001b[0m \u001b[1m0s\u001b[0m 28ms/step\n",
            "\n",
            "Text: I can't believe how rude that person was to me.\n",
            "Cleaned text: cant believe rude person\n",
            "Emotion: Anger (confidence: 0.97)\n",
            "Violence: Physical Violence (confidence: 0.73)\n",
            "Hate speech: Neither (confidence: 0.46)\n",
            "--------------------------------------------------------------------------------\n",
            "\u001b[1m1/1\u001b[0m \u001b[32m━━━━━━━━━━━━━━━━━━━━\u001b[0m\u001b[37m\u001b[0m \u001b[1m0s\u001b[0m 29ms/step\n",
            "\n",
            "Text: The news about the violence against women is heartbreaking.\n",
            "Cleaned text: news violence woman heartbreaking\n",
            "Emotion: Anger (confidence: 0.82)\n",
            "Violence: Physical Violence (confidence: 0.60)\n",
            "Hate speech: Neither (confidence: 0.39)\n",
            "--------------------------------------------------------------------------------\n",
            "\u001b[1m1/1\u001b[0m \u001b[32m━━━━━━━━━━━━━━━━━━━━\u001b[0m\u001b[37m\u001b[0m \u001b[1m0s\u001b[0m 35ms/step\n",
            "\n",
            "Text: I love spending time with my family, they bring me joy.\n",
            "Cleaned text: love spending time family bring joy\n",
            "Emotion: Sadness (confidence: 0.77)\n",
            "Violence: Sexual Violence (confidence: 0.97)\n",
            "Hate speech: Offensive Speech (confidence: 0.99)\n",
            "--------------------------------------------------------------------------------\n"
          ]
        }
      ],
      "source": [
        "# Test with some sample texts\n",
        "sample_texts = [\n",
        "    \"I am so happy today, everything is going well!\",\n",
        "    \"That movie was terrifying, I couldn't sleep afterwards.\",\n",
        "    \"I can't believe how rude that person was to me.\",\n",
        "    \"The news about the violence against women is heartbreaking.\",\n",
        "    \"I love spending time with my family, they bring me joy.\"\n",
        "]\n",
        "\n",
        "# Make predictions using the emotion tokenizer for consistency\n",
        "for text in sample_texts:\n",
        "    results = predict_text(text, model, emotion_tokenizer)\n",
        "    \n",
        "    print(f\"\\nText: {results['text']}\")\n",
        "    print(f\"Cleaned text: {results['cleaned_text']}\")\n",
        "    print(f\"Emotion: {results['emotion']['label']} (confidence: {results['emotion']['confidence']:.2f})\")\n",
        "    print(f\"Violence: {results['violence']['label']} (confidence: {results['violence']['confidence']:.2f})\")\n",
        "    print(f\"Hate speech: {results['hate']['label']} (confidence: {results['hate']['confidence']:.2f})\")\n",
        "    print(\"-\" * 80)"
      ]
    },
    {
      "cell_type": "markdown",
      "metadata": {},
      "source": [
        "## 11. Save the Model\n",
        "\n",
        "Save the trained model for future use."
      ]
    },
    {
      "cell_type": "code",
      "execution_count": null,
      "metadata": {},
      "outputs": [],
      "source": [
        "# Save the model\n",
        "model.save('../models/multi_task_nlp_model.h5')\n",
        "print(\"Model saved successfully.\")"
      ]
    },
    {
      "cell_type": "markdown",
      "metadata": {},
      "source": [
        "## 12. Conclusion\n",
        "\n",
        "We've successfully built a multi-task LSTM model that can simultaneously detect emotions, violence, and hate speech in text. The model leverages shared layers to learn common text features, while having task-specific output layers for each classification task.\n",
        "\n",
        "Key accomplishments:\n",
        "- Preprocessed three different datasets for multi-task learning\n",
        "- Built a multi-task LSTM architecture with shared and task-specific layers\n",
        "- Trained the model to simultaneously predict emotions, violence, and hate speech\n",
        "- Evaluated the model's performance across all three tasks\n",
        "- Created a prediction function for new text inputs\n",
        "\n",
        "Next steps could include:\n",
        "- Fine-tuning the model architecture and hyperparameters\n",
        "- Adding pre-trained word embeddings like GloVe or BERT for better performance\n",
        "- Deploying the model as an API for real-time text analysis\n",
        "- Creating a simple web interface for demonstrating the model's capabilities"
      ]
    }
  ],
  "metadata": {
    "colab": {
      "provenance": []
    },
    "kernelspec": {
      "display_name": "venv",
      "language": "python",
      "name": "python3"
    },
    "language_info": {
      "codemirror_mode": {
        "name": "ipython",
        "version": 3
      },
      "file_extension": ".py",
      "mimetype": "text/x-python",
      "name": "python",
      "nbconvert_exporter": "python",
      "pygments_lexer": "ipython3",
      "version": "3.9.7"
    }
  },
  "nbformat": 4,
  "nbformat_minor": 0
}
